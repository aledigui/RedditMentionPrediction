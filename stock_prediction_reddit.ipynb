{
 "cells": [
  {
   "cell_type": "markdown",
   "metadata": {
    "id": "sized-bosnia"
   },
   "source": [
    "## Pipeline"
   ]
  },
  {
   "cell_type": "code",
   "execution_count": 3,
   "metadata": {
    "colab": {
     "base_uri": "https://localhost:8080/"
    },
    "id": "modified-assist",
    "outputId": "33929510-b4fb-49e2-aeef-0bff01a29c42"
   },
   "outputs": [],
   "source": [
    "import praw\n",
    "\n",
    "from tqdm import tqdm\n",
    "\n",
    "import numpy as np\n",
    "import pandas as pd\n",
    "\n",
    "import requests\n",
    "import json\n",
    "\n",
    "from bs4 import BeautifulSoup\n",
    "\n",
    "from datetime import datetime, timezone, timedelta\n",
    "import pytz\n",
    "\n",
    "import seaborn as sns\n",
    "import matplotlib.pyplot as plt"
   ]
  },
  {
   "cell_type": "markdown",
   "metadata": {
    "id": "clean-haiti"
   },
   "source": [
    "**Marketstack Data**"
   ]
  },
  {
   "cell_type": "code",
   "execution_count": 4,
   "metadata": {
    "id": "historic-visibility"
   },
   "outputs": [],
   "source": [
    "def ticker_history(ticker):\n",
    "    \"\"\" returns trading data of a stock over the last 100 trading days. \n",
    "    Args:\n",
    "        ticker (string): ticker symbol representing inputed stock\n",
    "        \n",
    "    Returns:\n",
    "        df_history (DataFrame): pd DF containing end of day data \n",
    "    \"\"\"\n",
    "    # define api acess key\n",
    "    params = {'access_key': 'fb8442e7289f98db111f57de2a4c1d75'}\n",
    "    \n",
    "    # call to api with inputed parameters\n",
    "    api_result = requests.get(f'https://api.marketstack.com/v1/tickers/{ticker}/eod', params)\n",
    "    \n",
    "    # convert data to json format\n",
    "    api_response = api_result.json()\n",
    "    \n",
    "    # DataFrame composed of only end of day stock data\n",
    "    df_history = pd.DataFrame(api_response['data']['eod'])\n",
    "    \n",
    "    return df_history"
   ]
  },
  {
   "cell_type": "code",
   "execution_count": 5,
   "metadata": {
    "colab": {
     "base_uri": "https://localhost:8080/",
     "height": 204
    },
    "id": "motivated-isaac",
    "outputId": "bd2482f3-5ba6-42a5-9fcb-da8994934f88"
   },
   "outputs": [
    {
     "ename": "KeyError",
     "evalue": "'data'",
     "output_type": "error",
     "traceback": [
      "\u001b[1;31m---------------------------------------------------------------------------\u001b[0m",
      "\u001b[1;31mKeyError\u001b[0m                                  Traceback (most recent call last)",
      "\u001b[1;32m<ipython-input-5-c341e85a37bc>\u001b[0m in \u001b[0;36m<module>\u001b[1;34m\u001b[0m\n\u001b[1;32m----> 1\u001b[1;33m \u001b[0mdf_aapl_history\u001b[0m \u001b[1;33m=\u001b[0m \u001b[0mticker_history\u001b[0m\u001b[1;33m(\u001b[0m\u001b[1;34m'aapl'\u001b[0m\u001b[1;33m)\u001b[0m\u001b[1;33m\u001b[0m\u001b[1;33m\u001b[0m\u001b[0m\n\u001b[0m\u001b[0;32m      2\u001b[0m \u001b[0mdf_aapl_history\u001b[0m\u001b[1;33m.\u001b[0m\u001b[0mhead\u001b[0m\u001b[1;33m(\u001b[0m\u001b[1;33m)\u001b[0m\u001b[1;33m\u001b[0m\u001b[1;33m\u001b[0m\u001b[0m\n",
      "\u001b[1;32m<ipython-input-4-a69aaa028e92>\u001b[0m in \u001b[0;36mticker_history\u001b[1;34m(ticker)\u001b[0m\n\u001b[0;32m     17\u001b[0m \u001b[1;33m\u001b[0m\u001b[0m\n\u001b[0;32m     18\u001b[0m     \u001b[1;31m# DataFrame composed of only end of day stock data\u001b[0m\u001b[1;33m\u001b[0m\u001b[1;33m\u001b[0m\u001b[1;33m\u001b[0m\u001b[0m\n\u001b[1;32m---> 19\u001b[1;33m     \u001b[0mdf_history\u001b[0m \u001b[1;33m=\u001b[0m \u001b[0mpd\u001b[0m\u001b[1;33m.\u001b[0m\u001b[0mDataFrame\u001b[0m\u001b[1;33m(\u001b[0m\u001b[0mapi_response\u001b[0m\u001b[1;33m[\u001b[0m\u001b[1;34m'data'\u001b[0m\u001b[1;33m]\u001b[0m\u001b[1;33m[\u001b[0m\u001b[1;34m'eod'\u001b[0m\u001b[1;33m]\u001b[0m\u001b[1;33m)\u001b[0m\u001b[1;33m\u001b[0m\u001b[1;33m\u001b[0m\u001b[0m\n\u001b[0m\u001b[0;32m     20\u001b[0m \u001b[1;33m\u001b[0m\u001b[0m\n\u001b[0;32m     21\u001b[0m     \u001b[1;32mreturn\u001b[0m \u001b[0mdf_history\u001b[0m\u001b[1;33m\u001b[0m\u001b[1;33m\u001b[0m\u001b[0m\n",
      "\u001b[1;31mKeyError\u001b[0m: 'data'"
     ]
    }
   ],
   "source": [
    "df_aapl_history = ticker_history('aapl')\n",
    "df_aapl_history.head()"
   ]
  },
  {
   "cell_type": "markdown",
   "metadata": {
    "id": "functioning-share"
   },
   "source": [
    "**Create a DataFrame of all companies listed on the NASDAQ** \n",
    "\n",
    "to allow us to figure out which of them have been mentioned on /r/WallStreetBets"
   ]
  },
  {
   "cell_type": "code",
   "execution_count": 19,
   "metadata": {
    "id": "parental-entity"
   },
   "outputs": [],
   "source": [
    "# https://www.nasdaq.com/market-activity/stocks/screener?exchange=nasdaq&letter=0&render=download\n",
    "df_nasdaq = pd.read_csv('nasdaq-11-02-21.csv')\n",
    "# add row to track exchange listed on\n",
    "df_nasdaq['Exchange'] = 'NASDAQ'"
   ]
  },
  {
   "cell_type": "markdown",
   "metadata": {
    "id": "technical-closure"
   },
   "source": [
    "**Set up connection to Reddit**"
   ]
  },
  {
   "cell_type": "code",
   "execution_count": 20,
   "metadata": {
    "id": "sitting-audit"
   },
   "outputs": [],
   "source": [
    "# information to establish connection with Reddit\n",
    "BOT_USERNAME = 'wsb_scraper_bot'\n",
    "BOT_PASSWORD = 'wsbscraper123'\n",
    "\n",
    "USER_AGENT = 'stock_scraper'\n",
    "\n",
    "PERSONAL_USE_SCRIPT = 'ZtchHXULvjzyMQ'\n",
    "SECRET_TOKEN = 'hG22Q7q79x8Hy6AVWTDthC0f7QrjJg'"
   ]
  },
  {
   "cell_type": "code",
   "execution_count": 21,
   "metadata": {
    "id": "worldwide-flood"
   },
   "outputs": [],
   "source": [
    "# get reddit instance\n",
    "reddit = praw.Reddit(client_id=PERSONAL_USE_SCRIPT, \n",
    "                     client_secret=SECRET_TOKEN,\n",
    "                     user_agent=USER_AGENT,\n",
    "                     username=BOT_USERNAME,\n",
    "                     password=BOT_PASSWORD, \n",
    "                     check_for_async=False)"
   ]
  },
  {
   "cell_type": "code",
   "execution_count": 22,
   "metadata": {
    "colab": {
     "base_uri": "https://localhost:8080/"
    },
    "id": "least-reputation",
    "outputId": "8e9d9a63-fbb8-475f-d243-04dea8be61f9"
   },
   "outputs": [
    {
     "data": {
      "text/plain": [
       "<Response [200]>"
      ]
     },
     "execution_count": 22,
     "metadata": {},
     "output_type": "execute_result"
    }
   ],
   "source": [
    "# getting temporary OAuth token\n",
    "# note that CLIENT_ID refers to 'personal use script' and SECRET_TOKEN to 'token'\n",
    "auth = requests.auth.HTTPBasicAuth(PERSONAL_USE_SCRIPT, SECRET_TOKEN)\n",
    "\n",
    "# here we pass our login method (password), username, and password\n",
    "data = {'grant_type': 'password',\n",
    "        'username': BOT_USERNAME,\n",
    "        'password': BOT_PASSWORD}\n",
    "\n",
    "# setup our header info, which gives reddit a brief description of our app\n",
    "headers = {'User-Agent': 'stock_scraper/0.0.1'}\n",
    "\n",
    "# send our request for an OAuth token\n",
    "res = requests.post('https://www.reddit.com/api/v1/access_token',\n",
    "                    auth=auth, data=data, headers=headers)\n",
    "\n",
    "# convert response to JSON and pull access_token value\n",
    "TOKEN = res.json()['access_token']\n",
    "\n",
    "# add authorization to our headers dictionary\n",
    "headers = {**headers, **{'Authorization': f\"bearer {TOKEN}\"}}\n",
    "\n",
    "# while the token is valid (~2 hours) we just add headers=headers to our requesbts\n",
    "requests.get('https://oauth.reddit.com/api/v1/me', headers=headers)"
   ]
  },
  {
   "cell_type": "markdown",
   "metadata": {
    "id": "twelve-grill"
   },
   "source": [
    "**Collect information from Pushshift**"
   ]
  },
  {
   "cell_type": "code",
   "execution_count": 23,
   "metadata": {
    "id": "asian-virgin"
   },
   "outputs": [],
   "source": [
    "# taken + modified from \n",
    "# https://rareloot.medium.com/using-pushshifts-api-to-extract-reddit-submissions-fb517b286563\n",
    "def get_pushshift_results(after, before, sub, num_results):\n",
    "    \"\"\" queries pushshift for the most commented on posts in the specified subreddit between the given dates\n",
    "    Args:\n",
    "        after (int)           : the date that all searches will be after, as a timestamp\n",
    "        before (int)          : the date that all searches will be before, as a timestamp\n",
    "        sub (str)             : the subreddit to search\n",
    "        num_results (int)     : the number of results to return\n",
    "    Returns:\n",
    "        pushshift_dict (dict) : a dictionary containing all results from the Pushshift query\n",
    "    \"\"\"\n",
    "    url = 'https://api.pushshift.io/reddit/search/submission/?size='+str(num_results)+'&after='+str(after)+'&before='+str(before)+'&sort=desc&sort_type=num_comments&subreddit='+str(sub)\n",
    "\n",
    "    #print(url)\n",
    "    r = requests.get(url)\n",
    "    \n",
    "    # avoid JSONDecodeError\n",
    "    try:\n",
    "        data = json.loads(r.text)\n",
    "        pushshift_dict =  data['data']\n",
    "    except:\n",
    "        pushshift_dict = dict()\n",
    "        \n",
    "    return pushshift_dict"
   ]
  },
  {
   "cell_type": "code",
   "execution_count": 24,
   "metadata": {
    "id": "selective-aquarium"
   },
   "outputs": [
    {
     "ename": "KeyboardInterrupt",
     "evalue": "",
     "output_type": "error",
     "traceback": [
      "\u001b[1;31m---------------------------------------------------------------------------\u001b[0m",
      "\u001b[1;31mKeyboardInterrupt\u001b[0m                         Traceback (most recent call last)",
      "\u001b[1;32m<ipython-input-24-8f606ca7ed98>\u001b[0m in \u001b[0;36m<module>\u001b[1;34m\u001b[0m\n\u001b[0;32m     25\u001b[0m \u001b[1;33m\u001b[0m\u001b[0m\n\u001b[0;32m     26\u001b[0m     \u001b[1;31m# store results\u001b[0m\u001b[1;33m\u001b[0m\u001b[1;33m\u001b[0m\u001b[1;33m\u001b[0m\u001b[0m\n\u001b[1;32m---> 27\u001b[1;33m     \u001b[0mpushshift_results\u001b[0m \u001b[1;33m=\u001b[0m \u001b[0mget_pushshift_results\u001b[0m\u001b[1;33m(\u001b[0m\u001b[0mafter_ts\u001b[0m\u001b[1;33m,\u001b[0m \u001b[0mbefore_ts\u001b[0m\u001b[1;33m,\u001b[0m \u001b[0msub\u001b[0m\u001b[1;33m,\u001b[0m \u001b[0mnum_results\u001b[0m\u001b[1;33m)\u001b[0m\u001b[1;33m\u001b[0m\u001b[1;33m\u001b[0m\u001b[0m\n\u001b[0m\u001b[0;32m     28\u001b[0m \u001b[1;33m\u001b[0m\u001b[0m\n\u001b[0;32m     29\u001b[0m     \u001b[1;31m# add results to list\u001b[0m\u001b[1;33m\u001b[0m\u001b[1;33m\u001b[0m\u001b[1;33m\u001b[0m\u001b[0m\n",
      "\u001b[1;32m<ipython-input-23-e07541759e1f>\u001b[0m in \u001b[0;36mget_pushshift_results\u001b[1;34m(after, before, sub, num_results)\u001b[0m\n\u001b[0;32m     14\u001b[0m \u001b[1;33m\u001b[0m\u001b[0m\n\u001b[0;32m     15\u001b[0m     \u001b[1;31m#print(url)\u001b[0m\u001b[1;33m\u001b[0m\u001b[1;33m\u001b[0m\u001b[1;33m\u001b[0m\u001b[0m\n\u001b[1;32m---> 16\u001b[1;33m     \u001b[0mr\u001b[0m \u001b[1;33m=\u001b[0m \u001b[0mrequests\u001b[0m\u001b[1;33m.\u001b[0m\u001b[0mget\u001b[0m\u001b[1;33m(\u001b[0m\u001b[0murl\u001b[0m\u001b[1;33m)\u001b[0m\u001b[1;33m\u001b[0m\u001b[1;33m\u001b[0m\u001b[0m\n\u001b[0m\u001b[0;32m     17\u001b[0m \u001b[1;33m\u001b[0m\u001b[0m\n\u001b[0;32m     18\u001b[0m     \u001b[1;31m# avoid JSONDecodeError\u001b[0m\u001b[1;33m\u001b[0m\u001b[1;33m\u001b[0m\u001b[1;33m\u001b[0m\u001b[0m\n",
      "\u001b[1;32m~\\anaconda3\\lib\\site-packages\\requests\\api.py\u001b[0m in \u001b[0;36mget\u001b[1;34m(url, params, **kwargs)\u001b[0m\n\u001b[0;32m     74\u001b[0m \u001b[1;33m\u001b[0m\u001b[0m\n\u001b[0;32m     75\u001b[0m     \u001b[0mkwargs\u001b[0m\u001b[1;33m.\u001b[0m\u001b[0msetdefault\u001b[0m\u001b[1;33m(\u001b[0m\u001b[1;34m'allow_redirects'\u001b[0m\u001b[1;33m,\u001b[0m \u001b[1;32mTrue\u001b[0m\u001b[1;33m)\u001b[0m\u001b[1;33m\u001b[0m\u001b[1;33m\u001b[0m\u001b[0m\n\u001b[1;32m---> 76\u001b[1;33m     \u001b[1;32mreturn\u001b[0m \u001b[0mrequest\u001b[0m\u001b[1;33m(\u001b[0m\u001b[1;34m'get'\u001b[0m\u001b[1;33m,\u001b[0m \u001b[0murl\u001b[0m\u001b[1;33m,\u001b[0m \u001b[0mparams\u001b[0m\u001b[1;33m=\u001b[0m\u001b[0mparams\u001b[0m\u001b[1;33m,\u001b[0m \u001b[1;33m**\u001b[0m\u001b[0mkwargs\u001b[0m\u001b[1;33m)\u001b[0m\u001b[1;33m\u001b[0m\u001b[1;33m\u001b[0m\u001b[0m\n\u001b[0m\u001b[0;32m     77\u001b[0m \u001b[1;33m\u001b[0m\u001b[0m\n\u001b[0;32m     78\u001b[0m \u001b[1;33m\u001b[0m\u001b[0m\n",
      "\u001b[1;32m~\\anaconda3\\lib\\site-packages\\requests\\api.py\u001b[0m in \u001b[0;36mrequest\u001b[1;34m(method, url, **kwargs)\u001b[0m\n\u001b[0;32m     59\u001b[0m     \u001b[1;31m# cases, and look like a memory leak in others.\u001b[0m\u001b[1;33m\u001b[0m\u001b[1;33m\u001b[0m\u001b[1;33m\u001b[0m\u001b[0m\n\u001b[0;32m     60\u001b[0m     \u001b[1;32mwith\u001b[0m \u001b[0msessions\u001b[0m\u001b[1;33m.\u001b[0m\u001b[0mSession\u001b[0m\u001b[1;33m(\u001b[0m\u001b[1;33m)\u001b[0m \u001b[1;32mas\u001b[0m \u001b[0msession\u001b[0m\u001b[1;33m:\u001b[0m\u001b[1;33m\u001b[0m\u001b[1;33m\u001b[0m\u001b[0m\n\u001b[1;32m---> 61\u001b[1;33m         \u001b[1;32mreturn\u001b[0m \u001b[0msession\u001b[0m\u001b[1;33m.\u001b[0m\u001b[0mrequest\u001b[0m\u001b[1;33m(\u001b[0m\u001b[0mmethod\u001b[0m\u001b[1;33m=\u001b[0m\u001b[0mmethod\u001b[0m\u001b[1;33m,\u001b[0m \u001b[0murl\u001b[0m\u001b[1;33m=\u001b[0m\u001b[0murl\u001b[0m\u001b[1;33m,\u001b[0m \u001b[1;33m**\u001b[0m\u001b[0mkwargs\u001b[0m\u001b[1;33m)\u001b[0m\u001b[1;33m\u001b[0m\u001b[1;33m\u001b[0m\u001b[0m\n\u001b[0m\u001b[0;32m     62\u001b[0m \u001b[1;33m\u001b[0m\u001b[0m\n\u001b[0;32m     63\u001b[0m \u001b[1;33m\u001b[0m\u001b[0m\n",
      "\u001b[1;32m~\\anaconda3\\lib\\site-packages\\requests\\sessions.py\u001b[0m in \u001b[0;36mrequest\u001b[1;34m(self, method, url, params, data, headers, cookies, files, auth, timeout, allow_redirects, proxies, hooks, stream, verify, cert, json)\u001b[0m\n\u001b[0;32m    528\u001b[0m         }\n\u001b[0;32m    529\u001b[0m         \u001b[0msend_kwargs\u001b[0m\u001b[1;33m.\u001b[0m\u001b[0mupdate\u001b[0m\u001b[1;33m(\u001b[0m\u001b[0msettings\u001b[0m\u001b[1;33m)\u001b[0m\u001b[1;33m\u001b[0m\u001b[1;33m\u001b[0m\u001b[0m\n\u001b[1;32m--> 530\u001b[1;33m         \u001b[0mresp\u001b[0m \u001b[1;33m=\u001b[0m \u001b[0mself\u001b[0m\u001b[1;33m.\u001b[0m\u001b[0msend\u001b[0m\u001b[1;33m(\u001b[0m\u001b[0mprep\u001b[0m\u001b[1;33m,\u001b[0m \u001b[1;33m**\u001b[0m\u001b[0msend_kwargs\u001b[0m\u001b[1;33m)\u001b[0m\u001b[1;33m\u001b[0m\u001b[1;33m\u001b[0m\u001b[0m\n\u001b[0m\u001b[0;32m    531\u001b[0m \u001b[1;33m\u001b[0m\u001b[0m\n\u001b[0;32m    532\u001b[0m         \u001b[1;32mreturn\u001b[0m \u001b[0mresp\u001b[0m\u001b[1;33m\u001b[0m\u001b[1;33m\u001b[0m\u001b[0m\n",
      "\u001b[1;32m~\\anaconda3\\lib\\site-packages\\requests\\sessions.py\u001b[0m in \u001b[0;36msend\u001b[1;34m(self, request, **kwargs)\u001b[0m\n\u001b[0;32m    641\u001b[0m \u001b[1;33m\u001b[0m\u001b[0m\n\u001b[0;32m    642\u001b[0m         \u001b[1;31m# Send the request\u001b[0m\u001b[1;33m\u001b[0m\u001b[1;33m\u001b[0m\u001b[1;33m\u001b[0m\u001b[0m\n\u001b[1;32m--> 643\u001b[1;33m         \u001b[0mr\u001b[0m \u001b[1;33m=\u001b[0m \u001b[0madapter\u001b[0m\u001b[1;33m.\u001b[0m\u001b[0msend\u001b[0m\u001b[1;33m(\u001b[0m\u001b[0mrequest\u001b[0m\u001b[1;33m,\u001b[0m \u001b[1;33m**\u001b[0m\u001b[0mkwargs\u001b[0m\u001b[1;33m)\u001b[0m\u001b[1;33m\u001b[0m\u001b[1;33m\u001b[0m\u001b[0m\n\u001b[0m\u001b[0;32m    644\u001b[0m \u001b[1;33m\u001b[0m\u001b[0m\n\u001b[0;32m    645\u001b[0m         \u001b[1;31m# Total elapsed time of the request (approximately)\u001b[0m\u001b[1;33m\u001b[0m\u001b[1;33m\u001b[0m\u001b[1;33m\u001b[0m\u001b[0m\n",
      "\u001b[1;32m~\\anaconda3\\lib\\site-packages\\requests\\adapters.py\u001b[0m in \u001b[0;36msend\u001b[1;34m(self, request, stream, timeout, verify, cert, proxies)\u001b[0m\n\u001b[0;32m    437\u001b[0m         \u001b[1;32mtry\u001b[0m\u001b[1;33m:\u001b[0m\u001b[1;33m\u001b[0m\u001b[1;33m\u001b[0m\u001b[0m\n\u001b[0;32m    438\u001b[0m             \u001b[1;32mif\u001b[0m \u001b[1;32mnot\u001b[0m \u001b[0mchunked\u001b[0m\u001b[1;33m:\u001b[0m\u001b[1;33m\u001b[0m\u001b[1;33m\u001b[0m\u001b[0m\n\u001b[1;32m--> 439\u001b[1;33m                 resp = conn.urlopen(\n\u001b[0m\u001b[0;32m    440\u001b[0m                     \u001b[0mmethod\u001b[0m\u001b[1;33m=\u001b[0m\u001b[0mrequest\u001b[0m\u001b[1;33m.\u001b[0m\u001b[0mmethod\u001b[0m\u001b[1;33m,\u001b[0m\u001b[1;33m\u001b[0m\u001b[1;33m\u001b[0m\u001b[0m\n\u001b[0;32m    441\u001b[0m                     \u001b[0murl\u001b[0m\u001b[1;33m=\u001b[0m\u001b[0murl\u001b[0m\u001b[1;33m,\u001b[0m\u001b[1;33m\u001b[0m\u001b[1;33m\u001b[0m\u001b[0m\n",
      "\u001b[1;32m~\\anaconda3\\lib\\site-packages\\urllib3\\connectionpool.py\u001b[0m in \u001b[0;36murlopen\u001b[1;34m(self, method, url, body, headers, retries, redirect, assert_same_host, timeout, pool_timeout, release_conn, chunked, body_pos, **response_kw)\u001b[0m\n\u001b[0;32m    668\u001b[0m \u001b[1;33m\u001b[0m\u001b[0m\n\u001b[0;32m    669\u001b[0m             \u001b[1;31m# Make the request on the httplib connection object.\u001b[0m\u001b[1;33m\u001b[0m\u001b[1;33m\u001b[0m\u001b[1;33m\u001b[0m\u001b[0m\n\u001b[1;32m--> 670\u001b[1;33m             httplib_response = self._make_request(\n\u001b[0m\u001b[0;32m    671\u001b[0m                 \u001b[0mconn\u001b[0m\u001b[1;33m,\u001b[0m\u001b[1;33m\u001b[0m\u001b[1;33m\u001b[0m\u001b[0m\n\u001b[0;32m    672\u001b[0m                 \u001b[0mmethod\u001b[0m\u001b[1;33m,\u001b[0m\u001b[1;33m\u001b[0m\u001b[1;33m\u001b[0m\u001b[0m\n",
      "\u001b[1;32m~\\anaconda3\\lib\\site-packages\\urllib3\\connectionpool.py\u001b[0m in \u001b[0;36m_make_request\u001b[1;34m(self, conn, method, url, timeout, chunked, **httplib_request_kw)\u001b[0m\n\u001b[0;32m    424\u001b[0m                     \u001b[1;31m# Python 3 (including for exceptions like SystemExit).\u001b[0m\u001b[1;33m\u001b[0m\u001b[1;33m\u001b[0m\u001b[1;33m\u001b[0m\u001b[0m\n\u001b[0;32m    425\u001b[0m                     \u001b[1;31m# Otherwise it looks like a bug in the code.\u001b[0m\u001b[1;33m\u001b[0m\u001b[1;33m\u001b[0m\u001b[1;33m\u001b[0m\u001b[0m\n\u001b[1;32m--> 426\u001b[1;33m                     \u001b[0msix\u001b[0m\u001b[1;33m.\u001b[0m\u001b[0mraise_from\u001b[0m\u001b[1;33m(\u001b[0m\u001b[0me\u001b[0m\u001b[1;33m,\u001b[0m \u001b[1;32mNone\u001b[0m\u001b[1;33m)\u001b[0m\u001b[1;33m\u001b[0m\u001b[1;33m\u001b[0m\u001b[0m\n\u001b[0m\u001b[0;32m    427\u001b[0m         \u001b[1;32mexcept\u001b[0m \u001b[1;33m(\u001b[0m\u001b[0mSocketTimeout\u001b[0m\u001b[1;33m,\u001b[0m \u001b[0mBaseSSLError\u001b[0m\u001b[1;33m,\u001b[0m \u001b[0mSocketError\u001b[0m\u001b[1;33m)\u001b[0m \u001b[1;32mas\u001b[0m \u001b[0me\u001b[0m\u001b[1;33m:\u001b[0m\u001b[1;33m\u001b[0m\u001b[1;33m\u001b[0m\u001b[0m\n\u001b[0;32m    428\u001b[0m             \u001b[0mself\u001b[0m\u001b[1;33m.\u001b[0m\u001b[0m_raise_timeout\u001b[0m\u001b[1;33m(\u001b[0m\u001b[0merr\u001b[0m\u001b[1;33m=\u001b[0m\u001b[0me\u001b[0m\u001b[1;33m,\u001b[0m \u001b[0murl\u001b[0m\u001b[1;33m=\u001b[0m\u001b[0murl\u001b[0m\u001b[1;33m,\u001b[0m \u001b[0mtimeout_value\u001b[0m\u001b[1;33m=\u001b[0m\u001b[0mread_timeout\u001b[0m\u001b[1;33m)\u001b[0m\u001b[1;33m\u001b[0m\u001b[1;33m\u001b[0m\u001b[0m\n",
      "\u001b[1;32m~\\anaconda3\\lib\\site-packages\\urllib3\\packages\\six.py\u001b[0m in \u001b[0;36mraise_from\u001b[1;34m(value, from_value)\u001b[0m\n",
      "\u001b[1;32m~\\anaconda3\\lib\\site-packages\\urllib3\\connectionpool.py\u001b[0m in \u001b[0;36m_make_request\u001b[1;34m(self, conn, method, url, timeout, chunked, **httplib_request_kw)\u001b[0m\n\u001b[0;32m    419\u001b[0m                 \u001b[1;31m# Python 3\u001b[0m\u001b[1;33m\u001b[0m\u001b[1;33m\u001b[0m\u001b[1;33m\u001b[0m\u001b[0m\n\u001b[0;32m    420\u001b[0m                 \u001b[1;32mtry\u001b[0m\u001b[1;33m:\u001b[0m\u001b[1;33m\u001b[0m\u001b[1;33m\u001b[0m\u001b[0m\n\u001b[1;32m--> 421\u001b[1;33m                     \u001b[0mhttplib_response\u001b[0m \u001b[1;33m=\u001b[0m \u001b[0mconn\u001b[0m\u001b[1;33m.\u001b[0m\u001b[0mgetresponse\u001b[0m\u001b[1;33m(\u001b[0m\u001b[1;33m)\u001b[0m\u001b[1;33m\u001b[0m\u001b[1;33m\u001b[0m\u001b[0m\n\u001b[0m\u001b[0;32m    422\u001b[0m                 \u001b[1;32mexcept\u001b[0m \u001b[0mBaseException\u001b[0m \u001b[1;32mas\u001b[0m \u001b[0me\u001b[0m\u001b[1;33m:\u001b[0m\u001b[1;33m\u001b[0m\u001b[1;33m\u001b[0m\u001b[0m\n\u001b[0;32m    423\u001b[0m                     \u001b[1;31m# Remove the TypeError from the exception chain in\u001b[0m\u001b[1;33m\u001b[0m\u001b[1;33m\u001b[0m\u001b[1;33m\u001b[0m\u001b[0m\n",
      "\u001b[1;32m~\\anaconda3\\lib\\http\\client.py\u001b[0m in \u001b[0;36mgetresponse\u001b[1;34m(self)\u001b[0m\n\u001b[0;32m   1345\u001b[0m         \u001b[1;32mtry\u001b[0m\u001b[1;33m:\u001b[0m\u001b[1;33m\u001b[0m\u001b[1;33m\u001b[0m\u001b[0m\n\u001b[0;32m   1346\u001b[0m             \u001b[1;32mtry\u001b[0m\u001b[1;33m:\u001b[0m\u001b[1;33m\u001b[0m\u001b[1;33m\u001b[0m\u001b[0m\n\u001b[1;32m-> 1347\u001b[1;33m                 \u001b[0mresponse\u001b[0m\u001b[1;33m.\u001b[0m\u001b[0mbegin\u001b[0m\u001b[1;33m(\u001b[0m\u001b[1;33m)\u001b[0m\u001b[1;33m\u001b[0m\u001b[1;33m\u001b[0m\u001b[0m\n\u001b[0m\u001b[0;32m   1348\u001b[0m             \u001b[1;32mexcept\u001b[0m \u001b[0mConnectionError\u001b[0m\u001b[1;33m:\u001b[0m\u001b[1;33m\u001b[0m\u001b[1;33m\u001b[0m\u001b[0m\n\u001b[0;32m   1349\u001b[0m                 \u001b[0mself\u001b[0m\u001b[1;33m.\u001b[0m\u001b[0mclose\u001b[0m\u001b[1;33m(\u001b[0m\u001b[1;33m)\u001b[0m\u001b[1;33m\u001b[0m\u001b[1;33m\u001b[0m\u001b[0m\n",
      "\u001b[1;32m~\\anaconda3\\lib\\http\\client.py\u001b[0m in \u001b[0;36mbegin\u001b[1;34m(self)\u001b[0m\n\u001b[0;32m    305\u001b[0m         \u001b[1;31m# read until we get a non-100 response\u001b[0m\u001b[1;33m\u001b[0m\u001b[1;33m\u001b[0m\u001b[1;33m\u001b[0m\u001b[0m\n\u001b[0;32m    306\u001b[0m         \u001b[1;32mwhile\u001b[0m \u001b[1;32mTrue\u001b[0m\u001b[1;33m:\u001b[0m\u001b[1;33m\u001b[0m\u001b[1;33m\u001b[0m\u001b[0m\n\u001b[1;32m--> 307\u001b[1;33m             \u001b[0mversion\u001b[0m\u001b[1;33m,\u001b[0m \u001b[0mstatus\u001b[0m\u001b[1;33m,\u001b[0m \u001b[0mreason\u001b[0m \u001b[1;33m=\u001b[0m \u001b[0mself\u001b[0m\u001b[1;33m.\u001b[0m\u001b[0m_read_status\u001b[0m\u001b[1;33m(\u001b[0m\u001b[1;33m)\u001b[0m\u001b[1;33m\u001b[0m\u001b[1;33m\u001b[0m\u001b[0m\n\u001b[0m\u001b[0;32m    308\u001b[0m             \u001b[1;32mif\u001b[0m \u001b[0mstatus\u001b[0m \u001b[1;33m!=\u001b[0m \u001b[0mCONTINUE\u001b[0m\u001b[1;33m:\u001b[0m\u001b[1;33m\u001b[0m\u001b[1;33m\u001b[0m\u001b[0m\n\u001b[0;32m    309\u001b[0m                 \u001b[1;32mbreak\u001b[0m\u001b[1;33m\u001b[0m\u001b[1;33m\u001b[0m\u001b[0m\n",
      "\u001b[1;32m~\\anaconda3\\lib\\http\\client.py\u001b[0m in \u001b[0;36m_read_status\u001b[1;34m(self)\u001b[0m\n\u001b[0;32m    266\u001b[0m \u001b[1;33m\u001b[0m\u001b[0m\n\u001b[0;32m    267\u001b[0m     \u001b[1;32mdef\u001b[0m \u001b[0m_read_status\u001b[0m\u001b[1;33m(\u001b[0m\u001b[0mself\u001b[0m\u001b[1;33m)\u001b[0m\u001b[1;33m:\u001b[0m\u001b[1;33m\u001b[0m\u001b[1;33m\u001b[0m\u001b[0m\n\u001b[1;32m--> 268\u001b[1;33m         \u001b[0mline\u001b[0m \u001b[1;33m=\u001b[0m \u001b[0mstr\u001b[0m\u001b[1;33m(\u001b[0m\u001b[0mself\u001b[0m\u001b[1;33m.\u001b[0m\u001b[0mfp\u001b[0m\u001b[1;33m.\u001b[0m\u001b[0mreadline\u001b[0m\u001b[1;33m(\u001b[0m\u001b[0m_MAXLINE\u001b[0m \u001b[1;33m+\u001b[0m \u001b[1;36m1\u001b[0m\u001b[1;33m)\u001b[0m\u001b[1;33m,\u001b[0m \u001b[1;34m\"iso-8859-1\"\u001b[0m\u001b[1;33m)\u001b[0m\u001b[1;33m\u001b[0m\u001b[1;33m\u001b[0m\u001b[0m\n\u001b[0m\u001b[0;32m    269\u001b[0m         \u001b[1;32mif\u001b[0m \u001b[0mlen\u001b[0m\u001b[1;33m(\u001b[0m\u001b[0mline\u001b[0m\u001b[1;33m)\u001b[0m \u001b[1;33m>\u001b[0m \u001b[0m_MAXLINE\u001b[0m\u001b[1;33m:\u001b[0m\u001b[1;33m\u001b[0m\u001b[1;33m\u001b[0m\u001b[0m\n\u001b[0;32m    270\u001b[0m             \u001b[1;32mraise\u001b[0m \u001b[0mLineTooLong\u001b[0m\u001b[1;33m(\u001b[0m\u001b[1;34m\"status line\"\u001b[0m\u001b[1;33m)\u001b[0m\u001b[1;33m\u001b[0m\u001b[1;33m\u001b[0m\u001b[0m\n",
      "\u001b[1;32m~\\anaconda3\\lib\\socket.py\u001b[0m in \u001b[0;36mreadinto\u001b[1;34m(self, b)\u001b[0m\n\u001b[0;32m    667\u001b[0m         \u001b[1;32mwhile\u001b[0m \u001b[1;32mTrue\u001b[0m\u001b[1;33m:\u001b[0m\u001b[1;33m\u001b[0m\u001b[1;33m\u001b[0m\u001b[0m\n\u001b[0;32m    668\u001b[0m             \u001b[1;32mtry\u001b[0m\u001b[1;33m:\u001b[0m\u001b[1;33m\u001b[0m\u001b[1;33m\u001b[0m\u001b[0m\n\u001b[1;32m--> 669\u001b[1;33m                 \u001b[1;32mreturn\u001b[0m \u001b[0mself\u001b[0m\u001b[1;33m.\u001b[0m\u001b[0m_sock\u001b[0m\u001b[1;33m.\u001b[0m\u001b[0mrecv_into\u001b[0m\u001b[1;33m(\u001b[0m\u001b[0mb\u001b[0m\u001b[1;33m)\u001b[0m\u001b[1;33m\u001b[0m\u001b[1;33m\u001b[0m\u001b[0m\n\u001b[0m\u001b[0;32m    670\u001b[0m             \u001b[1;32mexcept\u001b[0m \u001b[0mtimeout\u001b[0m\u001b[1;33m:\u001b[0m\u001b[1;33m\u001b[0m\u001b[1;33m\u001b[0m\u001b[0m\n\u001b[0;32m    671\u001b[0m                 \u001b[0mself\u001b[0m\u001b[1;33m.\u001b[0m\u001b[0m_timeout_occurred\u001b[0m \u001b[1;33m=\u001b[0m \u001b[1;32mTrue\u001b[0m\u001b[1;33m\u001b[0m\u001b[1;33m\u001b[0m\u001b[0m\n",
      "\u001b[1;32m~\\anaconda3\\lib\\ssl.py\u001b[0m in \u001b[0;36mrecv_into\u001b[1;34m(self, buffer, nbytes, flags)\u001b[0m\n\u001b[0;32m   1239\u001b[0m                   \u001b[1;34m\"non-zero flags not allowed in calls to recv_into() on %s\"\u001b[0m \u001b[1;33m%\u001b[0m\u001b[1;33m\u001b[0m\u001b[1;33m\u001b[0m\u001b[0m\n\u001b[0;32m   1240\u001b[0m                   self.__class__)\n\u001b[1;32m-> 1241\u001b[1;33m             \u001b[1;32mreturn\u001b[0m \u001b[0mself\u001b[0m\u001b[1;33m.\u001b[0m\u001b[0mread\u001b[0m\u001b[1;33m(\u001b[0m\u001b[0mnbytes\u001b[0m\u001b[1;33m,\u001b[0m \u001b[0mbuffer\u001b[0m\u001b[1;33m)\u001b[0m\u001b[1;33m\u001b[0m\u001b[1;33m\u001b[0m\u001b[0m\n\u001b[0m\u001b[0;32m   1242\u001b[0m         \u001b[1;32melse\u001b[0m\u001b[1;33m:\u001b[0m\u001b[1;33m\u001b[0m\u001b[1;33m\u001b[0m\u001b[0m\n\u001b[0;32m   1243\u001b[0m             \u001b[1;32mreturn\u001b[0m \u001b[0msuper\u001b[0m\u001b[1;33m(\u001b[0m\u001b[1;33m)\u001b[0m\u001b[1;33m.\u001b[0m\u001b[0mrecv_into\u001b[0m\u001b[1;33m(\u001b[0m\u001b[0mbuffer\u001b[0m\u001b[1;33m,\u001b[0m \u001b[0mnbytes\u001b[0m\u001b[1;33m,\u001b[0m \u001b[0mflags\u001b[0m\u001b[1;33m)\u001b[0m\u001b[1;33m\u001b[0m\u001b[1;33m\u001b[0m\u001b[0m\n",
      "\u001b[1;32m~\\anaconda3\\lib\\ssl.py\u001b[0m in \u001b[0;36mread\u001b[1;34m(self, len, buffer)\u001b[0m\n\u001b[0;32m   1097\u001b[0m         \u001b[1;32mtry\u001b[0m\u001b[1;33m:\u001b[0m\u001b[1;33m\u001b[0m\u001b[1;33m\u001b[0m\u001b[0m\n\u001b[0;32m   1098\u001b[0m             \u001b[1;32mif\u001b[0m \u001b[0mbuffer\u001b[0m \u001b[1;32mis\u001b[0m \u001b[1;32mnot\u001b[0m \u001b[1;32mNone\u001b[0m\u001b[1;33m:\u001b[0m\u001b[1;33m\u001b[0m\u001b[1;33m\u001b[0m\u001b[0m\n\u001b[1;32m-> 1099\u001b[1;33m                 \u001b[1;32mreturn\u001b[0m \u001b[0mself\u001b[0m\u001b[1;33m.\u001b[0m\u001b[0m_sslobj\u001b[0m\u001b[1;33m.\u001b[0m\u001b[0mread\u001b[0m\u001b[1;33m(\u001b[0m\u001b[0mlen\u001b[0m\u001b[1;33m,\u001b[0m \u001b[0mbuffer\u001b[0m\u001b[1;33m)\u001b[0m\u001b[1;33m\u001b[0m\u001b[1;33m\u001b[0m\u001b[0m\n\u001b[0m\u001b[0;32m   1100\u001b[0m             \u001b[1;32melse\u001b[0m\u001b[1;33m:\u001b[0m\u001b[1;33m\u001b[0m\u001b[1;33m\u001b[0m\u001b[0m\n\u001b[0;32m   1101\u001b[0m                 \u001b[1;32mreturn\u001b[0m \u001b[0mself\u001b[0m\u001b[1;33m.\u001b[0m\u001b[0m_sslobj\u001b[0m\u001b[1;33m.\u001b[0m\u001b[0mread\u001b[0m\u001b[1;33m(\u001b[0m\u001b[0mlen\u001b[0m\u001b[1;33m)\u001b[0m\u001b[1;33m\u001b[0m\u001b[1;33m\u001b[0m\u001b[0m\n",
      "\u001b[1;31mKeyboardInterrupt\u001b[0m: "
     ]
    }
   ],
   "source": [
    "# collect submissions for every 2 days in the last 100\n",
    "cur_date = datetime.now() - timedelta(days=100)\n",
    "\n",
    "# subreddit to search\n",
    "sub='WallStreetBets'\n",
    "\n",
    "# list to store pushshift links in\n",
    "pushshift_all_posts = []\n",
    "\n",
    "# collecting from every 2 days because otherwise cleaning takes too long\n",
    "time_delta = timedelta(days=2) \n",
    "\n",
    "while(cur_date < datetime.now()):\n",
    "    # first and last dates to search\n",
    "    search_start_date = cur_date\n",
    "    search_end_date = search_start_date + time_delta\n",
    "    \n",
    "    # convert search dates to timestamps\n",
    "    before_ts = int((search_end_date - datetime(1970, 1, 1)).total_seconds())\n",
    "    after_ts = int((search_start_date - datetime(1970, 1, 1)).total_seconds())\n",
    "    \n",
    "    # number of results to return per day\n",
    "    # 30 chosen to keep runtimes relatively low, but ideally would be higher\n",
    "    num_results = 30\n",
    "    \n",
    "    # store results\n",
    "    pushshift_results = get_pushshift_results(after_ts, before_ts, sub, num_results)\n",
    "    \n",
    "    # add results to list\n",
    "    pushshift_all_posts.extend(pushshift_results)\n",
    "    \n",
    "    # increment date to continue looping\n",
    "    cur_date += time_delta\n",
    "    \n",
    "\n",
    "# we can get the url from each item in pushshift_all_posts and create a submission/post object from it\n",
    "pushshift_post_list = []\n",
    "for post in pushshift_all_posts:\n",
    "    # create a temporary post from the posts's url\n",
    "    post_temp = post['full_link']\n",
    "    pushshift_post_list.append(post_temp)"
   ]
  },
  {
   "cell_type": "code",
   "execution_count": null,
   "metadata": {
    "colab": {
     "base_uri": "https://localhost:8080/"
    },
    "id": "binding-passport",
    "outputId": "5891db1e-db92-4964-9e46-63a9302d4500"
   },
   "outputs": [
    {
     "data": {
      "text/plain": [
       "1170"
      ]
     },
     "execution_count": 20,
     "metadata": {
      "tags": []
     },
     "output_type": "execute_result"
    }
   ],
   "source": [
    "len(pushshift_post_list)"
   ]
  },
  {
   "cell_type": "markdown",
   "metadata": {
    "id": "differential-edinburgh"
   },
   "source": [
    "**Clean information about each post and comment**\n",
    "\n",
    "We are ignoring all posts that are not flaired as either `DD` or `Discussion` in order to try and filter out spam and non-serious discussion"
   ]
  },
  {
   "cell_type": "code",
   "execution_count": null,
   "metadata": {
    "id": "thermal-retirement",
    "scrolled": true
   },
   "outputs": [],
   "source": [
    "from praw.models import MoreComments\n",
    "# list of flairs we're interested in\n",
    "flair_list = ['DD', 'Discussion']\n",
    "\n",
    "# empty DataFrames to record posts and comments\n",
    "df_posts = pd.DataFrame()\n",
    "df_comments = pd.DataFrame()\n",
    "\n",
    "# loop through all collected links\n",
    "for i in tqdm(range(len(pushshift_post_list)), desc='all posts and comments'):\n",
    "    # create submission from the current posts's url\n",
    "    post_url = pushshift_post_list[i]\n",
    "    # big try/except to try to prevent JSONDecode errors\n",
    "    try:\n",
    "        submission = reddit.submission(url=post_url)\n",
    "        # if the submission has a flair we are interested in, scrape information\n",
    "        # about the post and its comments\n",
    "        if submission.link_flair_text in flair_list:\n",
    "            # dictionary to store this post's information\n",
    "            post_dict = {}\n",
    "\n",
    "            # store important information from the post\n",
    "            post_dict['date'] = datetime.fromtimestamp(submission.created_utc)\n",
    "            post_dict['subreddit'] = submission.subreddit\n",
    "            post_dict['title'] = submission.title \n",
    "            post_dict['flair'] = submission.link_flair_text\n",
    "            post_dict['selftext'] = submission.selftext\n",
    "            post_dict['upvote_ratio'] = submission.upvote_ratio\n",
    "            post_dict['ups'] = submission.ups\n",
    "            post_dict['downs'] = submission.downs\n",
    "            post_dict['score'] = submission.score\n",
    "            post_dict['id'] = submission.id\n",
    "            post_dict['url'] = submission.url\n",
    "\n",
    "             # append post info to df_posts dataframes\n",
    "            df_posts = df_posts.append(post_dict, ignore_index=True)\n",
    "\n",
    "            # comments\n",
    "            # record post id with each comment to be able to track which comments came from which post\n",
    "            post_id = submission.id\n",
    "            # limit = 10 replaces 10 instances of 'MoreComments' and will help speed up the run\n",
    "            # trying to find a balance between number of comments scraped and a realistic runtime\n",
    "            submission.comments.replace_more(limit=10)\n",
    "\n",
    "            for comment in submission.comments.list():\n",
    "                # dictionary to store this comment's information\n",
    "                comment_dict = {}\n",
    "                \n",
    "                # get important information about comment\n",
    "                comment_dict['post_id'] = post_id \n",
    "                comment_dict['comment_id'] = comment.id\n",
    "                comment_dict['date'] = datetime.fromtimestamp(comment.created_utc)\n",
    "                comment_dict['body'] = comment.body\n",
    "                comment_dict['score'] = comment.score\n",
    "                \n",
    "                # append comment info to df_comments\n",
    "                df_comments = df_comments.append(comment_dict, ignore_index=True)\n",
    "                \n",
    "    # from https://stackoverflow.com/questions/1483429/how-to-print-an-exception-in-python\n",
    "    except Exception as e:\n",
    "        print(e)\n",
    "        "
   ]
  },
  {
   "cell_type": "code",
   "execution_count": null,
   "metadata": {
    "id": "accomplished-opposition"
   },
   "outputs": [],
   "source": [
    "# save to csv so we don't have to wait for the above sections of code to run every time\n",
    "# contains info for the year up to 14 April 2021\n",
    "df_posts.to_csv('posts_last_100_days.csv')\n",
    "df_comments.to_csv('comments_last_100_days.csv')"
   ]
  },
  {
   "cell_type": "markdown",
   "metadata": {
    "id": "sacred-attendance"
   },
   "source": [
    "**compute how many times each stock listed on the NASDAQ is mentioned**"
   ]
  },
  {
   "cell_type": "code",
   "execution_count": 1,
   "metadata": {
    "id": "disciplinary-rider"
   },
   "outputs": [
    {
     "ename": "NameError",
     "evalue": "name 'pd' is not defined",
     "output_type": "error",
     "traceback": [
      "\u001b[1;31m---------------------------------------------------------------------------\u001b[0m",
      "\u001b[1;31mNameError\u001b[0m                                 Traceback (most recent call last)",
      "\u001b[1;32m<ipython-input-1-96630a5650eb>\u001b[0m in \u001b[0;36m<module>\u001b[1;34m\u001b[0m\n\u001b[1;32m----> 1\u001b[1;33m \u001b[0mdf_posts\u001b[0m \u001b[1;33m=\u001b[0m \u001b[0mpd\u001b[0m\u001b[1;33m.\u001b[0m\u001b[0mread_csv\u001b[0m\u001b[1;33m(\u001b[0m\u001b[1;34m'posts_last_100_days.csv'\u001b[0m\u001b[1;33m)\u001b[0m\u001b[1;33m\u001b[0m\u001b[1;33m\u001b[0m\u001b[0m\n\u001b[0m\u001b[0;32m      2\u001b[0m \u001b[0mdf_comments\u001b[0m \u001b[1;33m=\u001b[0m \u001b[0mpd\u001b[0m\u001b[1;33m.\u001b[0m\u001b[0mread_csv\u001b[0m\u001b[1;33m(\u001b[0m\u001b[1;34m'comments_last_100_days.csv'\u001b[0m\u001b[1;33m)\u001b[0m\u001b[1;33m\u001b[0m\u001b[1;33m\u001b[0m\u001b[0m\n\u001b[0;32m      3\u001b[0m \u001b[1;33m\u001b[0m\u001b[0m\n\u001b[0;32m      4\u001b[0m \u001b[1;31m# remove extra column added by read_csv\u001b[0m\u001b[1;33m\u001b[0m\u001b[1;33m\u001b[0m\u001b[1;33m\u001b[0m\u001b[0m\n\u001b[0;32m      5\u001b[0m \u001b[1;32mdel\u001b[0m \u001b[0mdf_posts\u001b[0m\u001b[1;33m[\u001b[0m\u001b[1;34m'Unnamed: 0'\u001b[0m\u001b[1;33m]\u001b[0m\u001b[1;33m\u001b[0m\u001b[1;33m\u001b[0m\u001b[0m\n",
      "\u001b[1;31mNameError\u001b[0m: name 'pd' is not defined"
     ]
    }
   ],
   "source": [
    "df_posts = pd.read_csv('posts_last_100_days.csv')\n",
    "df_comments = pd.read_csv('comments_last_100_days.csv')\n",
    "\n",
    "# remove extra column added by read_csv\n",
    "del df_posts['Unnamed: 0']\n",
    "del df_comments['Unnamed: 0']"
   ]
  },
  {
   "cell_type": "code",
   "execution_count": 99,
   "metadata": {
    "colab": {
     "base_uri": "https://localhost:8080/",
     "height": 289
    },
    "id": "norwegian-cycling",
    "outputId": "44ae4d62-f1d2-463a-849b-a923882bbb58"
   },
   "outputs": [
    {
     "data": {
      "text/html": [
       "<div>\n",
       "<style scoped>\n",
       "    .dataframe tbody tr th:only-of-type {\n",
       "        vertical-align: middle;\n",
       "    }\n",
       "\n",
       "    .dataframe tbody tr th {\n",
       "        vertical-align: top;\n",
       "    }\n",
       "\n",
       "    .dataframe thead th {\n",
       "        text-align: right;\n",
       "    }\n",
       "</style>\n",
       "<table border=\"1\" class=\"dataframe\">\n",
       "  <thead>\n",
       "    <tr style=\"text-align: right;\">\n",
       "      <th></th>\n",
       "      <th>date</th>\n",
       "      <th>flair</th>\n",
       "      <th>score</th>\n",
       "      <th>selftext</th>\n",
       "    </tr>\n",
       "  </thead>\n",
       "  <tbody>\n",
       "    <tr>\n",
       "      <th>0</th>\n",
       "      <td>2021-01-06 01:27:52</td>\n",
       "      <td>Discussion</td>\n",
       "      <td>803.0</td>\n",
       "      <td>Honest question. Not even trolling.\\n\\nBut wha...</td>\n",
       "    </tr>\n",
       "    <tr>\n",
       "      <th>1</th>\n",
       "      <td>2021-01-05 22:14:40</td>\n",
       "      <td>Discussion</td>\n",
       "      <td>2068.0</td>\n",
       "      <td>As we've seen, there's been a lot of fuckery g...</td>\n",
       "    </tr>\n",
       "    <tr>\n",
       "      <th>2</th>\n",
       "      <td>2021-01-04 19:26:32</td>\n",
       "      <td>DD</td>\n",
       "      <td>194.0</td>\n",
       "      <td>Bionano Geonomics (BNGO)\\n\\n\\nLet’s start with...</td>\n",
       "    </tr>\n",
       "    <tr>\n",
       "      <th>3</th>\n",
       "      <td>2021-01-05 16:54:59</td>\n",
       "      <td>DD</td>\n",
       "      <td>157.0</td>\n",
       "      <td>**TLDR: Buy TLRY calls and shares. 🚀🚀🚀🚀🚀**\\n\\n...</td>\n",
       "    </tr>\n",
       "    <tr>\n",
       "      <th>4</th>\n",
       "      <td>2021-01-06 02:05:00</td>\n",
       "      <td>DD</td>\n",
       "      <td>434.0</td>\n",
       "      <td>GME GANGGGG!!! Most of you know I've been long...</td>\n",
       "    </tr>\n",
       "  </tbody>\n",
       "</table>\n",
       "</div>"
      ],
      "text/plain": [
       "                  date       flair   score  \\\n",
       "0  2021-01-06 01:27:52  Discussion   803.0   \n",
       "1  2021-01-05 22:14:40  Discussion  2068.0   \n",
       "2  2021-01-04 19:26:32          DD   194.0   \n",
       "3  2021-01-05 16:54:59          DD   157.0   \n",
       "4  2021-01-06 02:05:00          DD   434.0   \n",
       "\n",
       "                                            selftext  \n",
       "0  Honest question. Not even trolling.\\n\\nBut wha...  \n",
       "1  As we've seen, there's been a lot of fuckery g...  \n",
       "2  Bionano Geonomics (BNGO)\\n\\n\\nLet’s start with...  \n",
       "3  **TLDR: Buy TLRY calls and shares. 🚀🚀🚀🚀🚀**\\n\\n...  \n",
       "4  GME GANGGGG!!! Most of you know I've been long...  "
      ]
     },
     "execution_count": 99,
     "metadata": {},
     "output_type": "execute_result"
    }
   ],
   "source": [
    "# check data loaded correctly\n",
    "df_posts[['date', 'flair', 'score', 'selftext']].head()"
   ]
  },
  {
   "cell_type": "code",
   "execution_count": 98,
   "metadata": {},
   "outputs": [
    {
     "data": {
      "text/plain": [
       "Index(['date', 'downs', 'flair', 'id', 'score', 'selftext', 'subreddit',\n",
       "       'title', 'ups', 'upvote_ratio', 'url'],\n",
       "      dtype='object')"
      ]
     },
     "execution_count": 98,
     "metadata": {},
     "output_type": "execute_result"
    }
   ],
   "source": [
    "df_posts.columns"
   ]
  },
  {
   "cell_type": "code",
   "execution_count": 101,
   "metadata": {
    "colab": {
     "base_uri": "https://localhost:8080/",
     "height": 204
    },
    "id": "ahead-organic",
    "outputId": "0b329291-d97e-4967-a088-df7371597122"
   },
   "outputs": [
    {
     "data": {
      "text/html": [
       "<div>\n",
       "<style scoped>\n",
       "    .dataframe tbody tr th:only-of-type {\n",
       "        vertical-align: middle;\n",
       "    }\n",
       "\n",
       "    .dataframe tbody tr th {\n",
       "        vertical-align: top;\n",
       "    }\n",
       "\n",
       "    .dataframe thead th {\n",
       "        text-align: right;\n",
       "    }\n",
       "</style>\n",
       "<table border=\"1\" class=\"dataframe\">\n",
       "  <thead>\n",
       "    <tr style=\"text-align: right;\">\n",
       "      <th></th>\n",
       "      <th>body</th>\n",
       "      <th>comment_id</th>\n",
       "      <th>date</th>\n",
       "      <th>post_id</th>\n",
       "      <th>score</th>\n",
       "    </tr>\n",
       "  </thead>\n",
       "  <tbody>\n",
       "    <tr>\n",
       "      <th>4</th>\n",
       "      <td>I went from zero to 600k, married with two kid...</td>\n",
       "      <td>gi9wle9</td>\n",
       "      <td>2021-01-06 05:34:48</td>\n",
       "      <td>krd25b</td>\n",
       "      <td>64.0</td>\n",
       "    </tr>\n",
       "    <tr>\n",
       "      <th>5</th>\n",
       "      <td>You acclimate to w/e lifestyle you have appare...</td>\n",
       "      <td>gi948zs</td>\n",
       "      <td>2021-01-06 01:31:45</td>\n",
       "      <td>krd25b</td>\n",
       "      <td>206.0</td>\n",
       "    </tr>\n",
       "    <tr>\n",
       "      <th>6</th>\n",
       "      <td>Have you ever scored a 93rd minute game winnin...</td>\n",
       "      <td>gi94a52</td>\n",
       "      <td>2021-01-06 01:32:03</td>\n",
       "      <td>krd25b</td>\n",
       "      <td>104.0</td>\n",
       "    </tr>\n",
       "    <tr>\n",
       "      <th>7</th>\n",
       "      <td>Ever taken a really great shit?</td>\n",
       "      <td>gi954kp</td>\n",
       "      <td>2021-01-06 01:39:11</td>\n",
       "      <td>krd25b</td>\n",
       "      <td>47.0</td>\n",
       "    </tr>\n",
       "    <tr>\n",
       "      <th>8</th>\n",
       "      <td>I had a friend who was rich, his father owned ...</td>\n",
       "      <td>gi9exm7</td>\n",
       "      <td>2021-01-06 02:59:28</td>\n",
       "      <td>krd25b</td>\n",
       "      <td>48.0</td>\n",
       "    </tr>\n",
       "  </tbody>\n",
       "</table>\n",
       "</div>"
      ],
      "text/plain": [
       "                                                body comment_id  \\\n",
       "4  I went from zero to 600k, married with two kid...    gi9wle9   \n",
       "5  You acclimate to w/e lifestyle you have appare...    gi948zs   \n",
       "6  Have you ever scored a 93rd minute game winnin...    gi94a52   \n",
       "7                    Ever taken a really great shit?    gi954kp   \n",
       "8  I had a friend who was rich, his father owned ...    gi9exm7   \n",
       "\n",
       "                  date post_id  score  \n",
       "4  2021-01-06 05:34:48  krd25b   64.0  \n",
       "5  2021-01-06 01:31:45  krd25b  206.0  \n",
       "6  2021-01-06 01:32:03  krd25b  104.0  \n",
       "7  2021-01-06 01:39:11  krd25b   47.0  \n",
       "8  2021-01-06 02:59:28  krd25b   48.0  "
      ]
     },
     "execution_count": 101,
     "metadata": {},
     "output_type": "execute_result"
    }
   ],
   "source": [
    "# check data loaded correctly\n",
    "df_comments.iloc[4:9]"
   ]
  },
  {
   "cell_type": "code",
   "execution_count": 26,
   "metadata": {
    "id": "prerequisite-crossing"
   },
   "outputs": [],
   "source": [
    "import re\n",
    "import itertools\n",
    "\n",
    "def get_mentions(df_posts, df_comments):\n",
    "    \"\"\" \n",
    "    counts the number of times each stock listed on the NASDAQ is mentioned in \n",
    "    Reddit posts and comments, on each day\n",
    "    \n",
    "    Args:\n",
    "        df_posts (pd.DataFrame)    : the posts to search through\n",
    "        df_comments (pd.DataFrame) : the comments to search through\n",
    "    Returns:\n",
    "        df_count (pd.DataFrame)    : a dataframe with a row for each stock listed on the NASDAQ.\n",
    "                                     stores the number of times that stock was mentioned in the \n",
    "                                     given posts and comments each day\n",
    "    \"\"\"\n",
    "    \n",
    "    # convert date cols to datetimes\n",
    "    df_posts['date'] = pd.to_datetime(df_posts['date']).dt.date.astype(str)\n",
    "    df_comments['date'] = pd.to_datetime(df_comments['date']).dt.date.astype(str)\n",
    "    \n",
    "    # all dates that are represented in information\n",
    "    cur_date = datetime.now() - timedelta(days=100)\n",
    "\n",
    "    # look at every single day\n",
    "    time_delta = timedelta(days=1)\n",
    "    \n",
    "    date_list = pd.date_range(datetime.today(), periods=100).tolist()\n",
    "    \n",
    "    # get values for double indices\n",
    "    symbol_list = df_nasdaq['Symbol'].tolist()\n",
    "    date_list = list(set(df_posts['date'].tolist()))\n",
    "\n",
    "    # remove common english words from symbol list\n",
    "    common_word_list = ['ON', 'CAN', 'EDIT', 'GO', 'UK', 'HAS', 'LOVE',\n",
    "                        'OPEN', 'ANY', 'STAY', 'GOOD', 'HUGE', 'NEXT',\n",
    "                        'REAL', 'VERY', 'LIFE', 'EVER','FREE', 'IQ', \n",
    "                        'HEAR', 'PLAY', 'TELL', 'PLUG', 'ELSE', 'RIDE', \n",
    "                        'MARK', 'TURN']\n",
    "\n",
    "    # list of stock symbols without common english words\n",
    "    symbol_list = [s for s in symbol_list if s not in common_word_list]\n",
    "    \n",
    "    # create (symbol, date) tuples in order to create a heirarchical index for our data\n",
    "    index_list = [symbol_list, date_list]\n",
    "    symbol_date_tuples = list(itertools.product(symbol_list, date_list))\n",
    "    \n",
    "    # create multiindex (heirarchical index)\n",
    "    index = pd.MultiIndex.from_tuples(symbol_date_tuples, names=['symbol', 'date'])\n",
    "    \n",
    "    # set index\n",
    "    df_count = pd.DataFrame(index=index)\n",
    "\n",
    "    # initialize counts to 0\n",
    "    df_count['count'] = 0\n",
    "    \n",
    "    # removed tqdm as it caused google colab to crash - estimate ~3 hr runtime ? start @ 10:28\n",
    "    for tuple_idx in range(len(symbol_date_tuples)):\n",
    "        symbol = symbol_date_tuples[tuple_idx][0]\n",
    "        date = symbol_date_tuples[tuple_idx][1]\n",
    "        # check post self texts\n",
    "        df_count.loc[(symbol, date), 'count'] += df_posts.loc[df_posts['date'] == date]['selftext'].str.contains(r'\\b' + re.escape(symbol)+ r'\\b').sum() \n",
    "\n",
    "        # check comment bodiesr\n",
    "        df_count.loc[(symbol, date), 'count'] += df_comments.loc[df_comments['date'] == date]['body'].str.contains(r'\\b' + re.escape(symbol)+ r'\\b').sum()\n",
    "    \n",
    "    return df_count"
   ]
  },
  {
   "cell_type": "code",
   "execution_count": null,
   "metadata": {
    "id": "respected-lebanon"
   },
   "outputs": [],
   "source": [
    "df_counts = get_mentions(df_posts, df_comments)\n",
    "# save symbol counts per date to csv\n",
    "df_counts.to_csv('symbol_counts.csv')"
   ]
  },
  {
   "cell_type": "markdown",
   "metadata": {},
   "source": [
    "## Machine learning and Analysis - SNDL\n",
    "\n",
    "trying to see if we can find meaningful results for a correlation between \\$SNDL mentions and it's price movement, as it is the symbol with the highest standard deviation in its mentions"
   ]
  },
  {
   "cell_type": "code",
   "execution_count": 4,
   "metadata": {
    "id": "reserved-commodity"
   },
   "outputs": [],
   "source": [
    "# reload data from csv\n",
    "df_counts = pd.read_csv('symbol_counts.csv', index_col=[0,1])"
   ]
  },
  {
   "cell_type": "code",
   "execution_count": 5,
   "metadata": {
    "colab": {
     "base_uri": "https://localhost:8080/",
     "height": 235
    },
    "id": "rclwFhwkQvBb",
    "outputId": "946e785a-35e5-4648-ea07-083fa6161871"
   },
   "outputs": [
    {
     "data": {
      "text/html": [
       "<div>\n",
       "<style scoped>\n",
       "    .dataframe tbody tr th:only-of-type {\n",
       "        vertical-align: middle;\n",
       "    }\n",
       "\n",
       "    .dataframe tbody tr th {\n",
       "        vertical-align: top;\n",
       "    }\n",
       "\n",
       "    .dataframe thead th {\n",
       "        text-align: right;\n",
       "    }\n",
       "</style>\n",
       "<table border=\"1\" class=\"dataframe\">\n",
       "  <thead>\n",
       "    <tr style=\"text-align: right;\">\n",
       "      <th></th>\n",
       "      <th></th>\n",
       "      <th>count</th>\n",
       "    </tr>\n",
       "    <tr>\n",
       "      <th>symbol</th>\n",
       "      <th>date</th>\n",
       "      <th></th>\n",
       "    </tr>\n",
       "  </thead>\n",
       "  <tbody>\n",
       "    <tr>\n",
       "      <th rowspan=\"5\" valign=\"top\">AACG</th>\n",
       "      <th>2021-01-19</th>\n",
       "      <td>0</td>\n",
       "    </tr>\n",
       "    <tr>\n",
       "      <th>2021-01-26</th>\n",
       "      <td>0</td>\n",
       "    </tr>\n",
       "    <tr>\n",
       "      <th>2021-01-07</th>\n",
       "      <td>0</td>\n",
       "    </tr>\n",
       "    <tr>\n",
       "      <th>2021-01-13</th>\n",
       "      <td>0</td>\n",
       "    </tr>\n",
       "    <tr>\n",
       "      <th>2021-01-15</th>\n",
       "      <td>0</td>\n",
       "    </tr>\n",
       "  </tbody>\n",
       "</table>\n",
       "</div>"
      ],
      "text/plain": [
       "                   count\n",
       "symbol date             \n",
       "AACG   2021-01-19      0\n",
       "       2021-01-26      0\n",
       "       2021-01-07      0\n",
       "       2021-01-13      0\n",
       "       2021-01-15      0"
      ]
     },
     "execution_count": 5,
     "metadata": {},
     "output_type": "execute_result"
    }
   ],
   "source": [
    "df_counts.head()"
   ]
  },
  {
   "cell_type": "code",
   "execution_count": 6,
   "metadata": {
    "id": "ewsX5RJlN5Gm"
   },
   "outputs": [],
   "source": [
    "# treat 2nd level index (date) as columns to make it easier to get z scores and standard deviations for mentions \n",
    "df_count_unstack = df_counts.unstack(level=1)"
   ]
  },
  {
   "cell_type": "code",
   "execution_count": 7,
   "metadata": {
    "colab": {
     "base_uri": "https://localhost:8080/",
     "height": 303
    },
    "id": "X3FEZeMFTCjR",
    "outputId": "0d739910-5ce9-458e-b774-75d63c8a8321"
   },
   "outputs": [
    {
     "data": {
      "text/html": [
       "<div>\n",
       "<style scoped>\n",
       "    .dataframe tbody tr th:only-of-type {\n",
       "        vertical-align: middle;\n",
       "    }\n",
       "\n",
       "    .dataframe tbody tr th {\n",
       "        vertical-align: top;\n",
       "    }\n",
       "\n",
       "    .dataframe thead tr th {\n",
       "        text-align: left;\n",
       "    }\n",
       "\n",
       "    .dataframe thead tr:last-of-type th {\n",
       "        text-align: right;\n",
       "    }\n",
       "</style>\n",
       "<table border=\"1\" class=\"dataframe\">\n",
       "  <thead>\n",
       "    <tr>\n",
       "      <th></th>\n",
       "      <th colspan=\"21\" halign=\"left\">count</th>\n",
       "    </tr>\n",
       "    <tr>\n",
       "      <th>date</th>\n",
       "      <th>2021-01-04</th>\n",
       "      <th>2021-01-05</th>\n",
       "      <th>2021-01-06</th>\n",
       "      <th>2021-01-07</th>\n",
       "      <th>2021-01-08</th>\n",
       "      <th>2021-01-09</th>\n",
       "      <th>2021-01-10</th>\n",
       "      <th>2021-01-11</th>\n",
       "      <th>2021-01-12</th>\n",
       "      <th>2021-01-13</th>\n",
       "      <th>...</th>\n",
       "      <th>2021-03-16</th>\n",
       "      <th>2021-03-28</th>\n",
       "      <th>2021-03-29</th>\n",
       "      <th>2021-03-30</th>\n",
       "      <th>2021-03-31</th>\n",
       "      <th>2021-04-01</th>\n",
       "      <th>2021-04-02</th>\n",
       "      <th>2021-04-04</th>\n",
       "      <th>2021-04-05</th>\n",
       "      <th>2021-04-06</th>\n",
       "    </tr>\n",
       "    <tr>\n",
       "      <th>symbol</th>\n",
       "      <th></th>\n",
       "      <th></th>\n",
       "      <th></th>\n",
       "      <th></th>\n",
       "      <th></th>\n",
       "      <th></th>\n",
       "      <th></th>\n",
       "      <th></th>\n",
       "      <th></th>\n",
       "      <th></th>\n",
       "      <th></th>\n",
       "      <th></th>\n",
       "      <th></th>\n",
       "      <th></th>\n",
       "      <th></th>\n",
       "      <th></th>\n",
       "      <th></th>\n",
       "      <th></th>\n",
       "      <th></th>\n",
       "      <th></th>\n",
       "      <th></th>\n",
       "    </tr>\n",
       "  </thead>\n",
       "  <tbody>\n",
       "    <tr>\n",
       "      <th>SNDL</th>\n",
       "      <td>0</td>\n",
       "      <td>0</td>\n",
       "      <td>0</td>\n",
       "      <td>0</td>\n",
       "      <td>0</td>\n",
       "      <td>0</td>\n",
       "      <td>0</td>\n",
       "      <td>0</td>\n",
       "      <td>0</td>\n",
       "      <td>0</td>\n",
       "      <td>...</td>\n",
       "      <td>0</td>\n",
       "      <td>0</td>\n",
       "      <td>0</td>\n",
       "      <td>0</td>\n",
       "      <td>0</td>\n",
       "      <td>0</td>\n",
       "      <td>0</td>\n",
       "      <td>1</td>\n",
       "      <td>0</td>\n",
       "      <td>0</td>\n",
       "    </tr>\n",
       "    <tr>\n",
       "      <th>TSLA</th>\n",
       "      <td>0</td>\n",
       "      <td>1</td>\n",
       "      <td>3</td>\n",
       "      <td>7</td>\n",
       "      <td>117</td>\n",
       "      <td>72</td>\n",
       "      <td>126</td>\n",
       "      <td>46</td>\n",
       "      <td>20</td>\n",
       "      <td>16</td>\n",
       "      <td>...</td>\n",
       "      <td>0</td>\n",
       "      <td>3</td>\n",
       "      <td>4</td>\n",
       "      <td>5</td>\n",
       "      <td>1</td>\n",
       "      <td>6</td>\n",
       "      <td>4</td>\n",
       "      <td>1</td>\n",
       "      <td>11</td>\n",
       "      <td>6</td>\n",
       "    </tr>\n",
       "    <tr>\n",
       "      <th>AAPL</th>\n",
       "      <td>0</td>\n",
       "      <td>0</td>\n",
       "      <td>0</td>\n",
       "      <td>0</td>\n",
       "      <td>5</td>\n",
       "      <td>3</td>\n",
       "      <td>2</td>\n",
       "      <td>3</td>\n",
       "      <td>0</td>\n",
       "      <td>2</td>\n",
       "      <td>...</td>\n",
       "      <td>1</td>\n",
       "      <td>0</td>\n",
       "      <td>1</td>\n",
       "      <td>6</td>\n",
       "      <td>2</td>\n",
       "      <td>3</td>\n",
       "      <td>0</td>\n",
       "      <td>0</td>\n",
       "      <td>1</td>\n",
       "      <td>1</td>\n",
       "    </tr>\n",
       "    <tr>\n",
       "      <th>AMD</th>\n",
       "      <td>0</td>\n",
       "      <td>0</td>\n",
       "      <td>0</td>\n",
       "      <td>0</td>\n",
       "      <td>1</td>\n",
       "      <td>1</td>\n",
       "      <td>3</td>\n",
       "      <td>1</td>\n",
       "      <td>2</td>\n",
       "      <td>2</td>\n",
       "      <td>...</td>\n",
       "      <td>0</td>\n",
       "      <td>0</td>\n",
       "      <td>1</td>\n",
       "      <td>2</td>\n",
       "      <td>0</td>\n",
       "      <td>1</td>\n",
       "      <td>18</td>\n",
       "      <td>1</td>\n",
       "      <td>1</td>\n",
       "      <td>0</td>\n",
       "    </tr>\n",
       "    <tr>\n",
       "      <th>AMZN</th>\n",
       "      <td>0</td>\n",
       "      <td>0</td>\n",
       "      <td>0</td>\n",
       "      <td>0</td>\n",
       "      <td>6</td>\n",
       "      <td>3</td>\n",
       "      <td>7</td>\n",
       "      <td>2</td>\n",
       "      <td>0</td>\n",
       "      <td>0</td>\n",
       "      <td>...</td>\n",
       "      <td>0</td>\n",
       "      <td>0</td>\n",
       "      <td>0</td>\n",
       "      <td>0</td>\n",
       "      <td>1</td>\n",
       "      <td>0</td>\n",
       "      <td>0</td>\n",
       "      <td>0</td>\n",
       "      <td>0</td>\n",
       "      <td>0</td>\n",
       "    </tr>\n",
       "  </tbody>\n",
       "</table>\n",
       "<p>5 rows × 74 columns</p>\n",
       "</div>"
      ],
      "text/plain": [
       "            count                                                         \\\n",
       "date   2021-01-04 2021-01-05 2021-01-06 2021-01-07 2021-01-08 2021-01-09   \n",
       "symbol                                                                     \n",
       "SNDL            0          0          0          0          0          0   \n",
       "TSLA            0          1          3          7        117         72   \n",
       "AAPL            0          0          0          0          5          3   \n",
       "AMD             0          0          0          0          1          1   \n",
       "AMZN            0          0          0          0          6          3   \n",
       "\n",
       "                                                    ...                        \\\n",
       "date   2021-01-10 2021-01-11 2021-01-12 2021-01-13  ... 2021-03-16 2021-03-28   \n",
       "symbol                                              ...                         \n",
       "SNDL            0          0          0          0  ...          0          0   \n",
       "TSLA          126         46         20         16  ...          0          3   \n",
       "AAPL            2          3          0          2  ...          1          0   \n",
       "AMD             3          1          2          2  ...          0          0   \n",
       "AMZN            7          2          0          0  ...          0          0   \n",
       "\n",
       "                                                                          \\\n",
       "date   2021-03-29 2021-03-30 2021-03-31 2021-04-01 2021-04-02 2021-04-04   \n",
       "symbol                                                                     \n",
       "SNDL            0          0          0          0          0          1   \n",
       "TSLA            4          5          1          6          4          1   \n",
       "AAPL            1          6          2          3          0          0   \n",
       "AMD             1          2          0          1         18          1   \n",
       "AMZN            0          0          1          0          0          0   \n",
       "\n",
       "                              \n",
       "date   2021-04-05 2021-04-06  \n",
       "symbol                        \n",
       "SNDL            0          0  \n",
       "TSLA           11          6  \n",
       "AAPL            1          1  \n",
       "AMD             1          0  \n",
       "AMZN            0          0  \n",
       "\n",
       "[5 rows x 74 columns]"
      ]
     },
     "execution_count": 7,
     "metadata": {},
     "output_type": "execute_result"
    }
   ],
   "source": [
    "df_count_unstack.loc[['SNDL','TSLA', 'AAPL', 'AMD', 'AMZN']]"
   ]
  },
  {
   "cell_type": "code",
   "execution_count": 8,
   "metadata": {
    "id": "3KXq0nSTS7ot"
   },
   "outputs": [],
   "source": [
    "# swap rows and cols for easier computations/std deviation computation\n",
    "df_count_t = df_count_unstack.T"
   ]
  },
  {
   "cell_type": "code",
   "execution_count": 9,
   "metadata": {
    "id": "pLMolZaa46Uw"
   },
   "outputs": [
    {
     "name": "stdout",
     "output_type": "stream",
     "text": [
      "['SNDL', 'APHA', 'TLRY', 'TSLA', 'AMZN', 'AMD', 'MVIS', 'TA', 'AAPL', 'CGC']\n"
     ]
    }
   ],
   "source": [
    "# figure out which symbols have the most variance in mentions\n",
    "std_series = df_count_t.std()\n",
    "\n",
    "# get top 10 symbols with highest standard deviations\n",
    "high_std_symbol = std_series.sort_values(ascending=False)[:10]\n",
    "\n",
    "# list of symbols with highest variance\n",
    "symbol_list = high_std_symbol.index.tolist()\n",
    "\n",
    "print(symbol_list)"
   ]
  },
  {
   "cell_type": "markdown",
   "metadata": {},
   "source": [
    "## See if we can find a relationship between mentions and price movement for SNDL, the stock with the highest standard deviation in it's mentions"
   ]
  },
  {
   "cell_type": "code",
   "execution_count": 10,
   "metadata": {
    "colab": {
     "base_uri": "https://localhost:8080/",
     "height": 179
    },
    "id": "llLebStTT0gQ",
    "outputId": "a5157476-8b04-4fa4-96d3-99b376f4ed2e"
   },
   "outputs": [
    {
     "data": {
      "text/html": [
       "<div>\n",
       "<style scoped>\n",
       "    .dataframe tbody tr th:only-of-type {\n",
       "        vertical-align: middle;\n",
       "    }\n",
       "\n",
       "    .dataframe tbody tr th {\n",
       "        vertical-align: top;\n",
       "    }\n",
       "\n",
       "    .dataframe thead tr th {\n",
       "        text-align: left;\n",
       "    }\n",
       "\n",
       "    .dataframe thead tr:last-of-type th {\n",
       "        text-align: right;\n",
       "    }\n",
       "</style>\n",
       "<table border=\"1\" class=\"dataframe\">\n",
       "  <thead>\n",
       "    <tr>\n",
       "      <th></th>\n",
       "      <th colspan=\"21\" halign=\"left\">count</th>\n",
       "    </tr>\n",
       "    <tr>\n",
       "      <th>date</th>\n",
       "      <th>2021-01-04</th>\n",
       "      <th>2021-01-05</th>\n",
       "      <th>2021-01-06</th>\n",
       "      <th>2021-01-07</th>\n",
       "      <th>2021-01-08</th>\n",
       "      <th>2021-01-09</th>\n",
       "      <th>2021-01-10</th>\n",
       "      <th>2021-01-11</th>\n",
       "      <th>2021-01-12</th>\n",
       "      <th>2021-01-13</th>\n",
       "      <th>...</th>\n",
       "      <th>2021-03-16</th>\n",
       "      <th>2021-03-28</th>\n",
       "      <th>2021-03-29</th>\n",
       "      <th>2021-03-30</th>\n",
       "      <th>2021-03-31</th>\n",
       "      <th>2021-04-01</th>\n",
       "      <th>2021-04-02</th>\n",
       "      <th>2021-04-04</th>\n",
       "      <th>2021-04-05</th>\n",
       "      <th>2021-04-06</th>\n",
       "    </tr>\n",
       "    <tr>\n",
       "      <th>symbol</th>\n",
       "      <th></th>\n",
       "      <th></th>\n",
       "      <th></th>\n",
       "      <th></th>\n",
       "      <th></th>\n",
       "      <th></th>\n",
       "      <th></th>\n",
       "      <th></th>\n",
       "      <th></th>\n",
       "      <th></th>\n",
       "      <th></th>\n",
       "      <th></th>\n",
       "      <th></th>\n",
       "      <th></th>\n",
       "      <th></th>\n",
       "      <th></th>\n",
       "      <th></th>\n",
       "      <th></th>\n",
       "      <th></th>\n",
       "      <th></th>\n",
       "      <th></th>\n",
       "    </tr>\n",
       "  </thead>\n",
       "  <tbody>\n",
       "    <tr>\n",
       "      <th>SNDL</th>\n",
       "      <td>0</td>\n",
       "      <td>0</td>\n",
       "      <td>0</td>\n",
       "      <td>0</td>\n",
       "      <td>0</td>\n",
       "      <td>0</td>\n",
       "      <td>0</td>\n",
       "      <td>0</td>\n",
       "      <td>0</td>\n",
       "      <td>0</td>\n",
       "      <td>...</td>\n",
       "      <td>0</td>\n",
       "      <td>0</td>\n",
       "      <td>0</td>\n",
       "      <td>0</td>\n",
       "      <td>0</td>\n",
       "      <td>0</td>\n",
       "      <td>0</td>\n",
       "      <td>1</td>\n",
       "      <td>0</td>\n",
       "      <td>0</td>\n",
       "    </tr>\n",
       "  </tbody>\n",
       "</table>\n",
       "<p>1 rows × 74 columns</p>\n",
       "</div>"
      ],
      "text/plain": [
       "            count                                                         \\\n",
       "date   2021-01-04 2021-01-05 2021-01-06 2021-01-07 2021-01-08 2021-01-09   \n",
       "symbol                                                                     \n",
       "SNDL            0          0          0          0          0          0   \n",
       "\n",
       "                                                    ...                        \\\n",
       "date   2021-01-10 2021-01-11 2021-01-12 2021-01-13  ... 2021-03-16 2021-03-28   \n",
       "symbol                                              ...                         \n",
       "SNDL            0          0          0          0  ...          0          0   \n",
       "\n",
       "                                                                          \\\n",
       "date   2021-03-29 2021-03-30 2021-03-31 2021-04-01 2021-04-02 2021-04-04   \n",
       "symbol                                                                     \n",
       "SNDL            0          0          0          0          0          1   \n",
       "\n",
       "                              \n",
       "date   2021-04-05 2021-04-06  \n",
       "symbol                        \n",
       "SNDL            0          0  \n",
       "\n",
       "[1 rows x 74 columns]"
      ]
     },
     "execution_count": 10,
     "metadata": {},
     "output_type": "execute_result"
    }
   ],
   "source": [
    "# remove all symbols that aren't the ones with 10 highest std devs\n",
    "df_counts_sndl = df_count_unstack.loc[['SNDL']]\n",
    "\n",
    "df_counts_sndl.head(10)"
   ]
  },
  {
   "cell_type": "code",
   "execution_count": 13,
   "metadata": {
    "colab": {
     "base_uri": "https://localhost:8080/",
     "height": 235
    },
    "id": "zaP6TsluURPK",
    "outputId": "3cb427ee-4576-484a-ee66-fae9c92047e8"
   },
   "outputs": [
    {
     "data": {
      "text/html": [
       "<div>\n",
       "<style scoped>\n",
       "    .dataframe tbody tr th:only-of-type {\n",
       "        vertical-align: middle;\n",
       "    }\n",
       "\n",
       "    .dataframe tbody tr th {\n",
       "        vertical-align: top;\n",
       "    }\n",
       "\n",
       "    .dataframe thead th {\n",
       "        text-align: right;\n",
       "    }\n",
       "</style>\n",
       "<table border=\"1\" class=\"dataframe\">\n",
       "  <thead>\n",
       "    <tr style=\"text-align: right;\">\n",
       "      <th></th>\n",
       "      <th>symbol</th>\n",
       "      <th>SNDL</th>\n",
       "    </tr>\n",
       "    <tr>\n",
       "      <th></th>\n",
       "      <th>date</th>\n",
       "      <th></th>\n",
       "    </tr>\n",
       "  </thead>\n",
       "  <tbody>\n",
       "    <tr>\n",
       "      <th rowspan=\"5\" valign=\"top\">count</th>\n",
       "      <th>2021-01-04</th>\n",
       "      <td>-0.156097</td>\n",
       "    </tr>\n",
       "    <tr>\n",
       "      <th>2021-01-05</th>\n",
       "      <td>-0.156097</td>\n",
       "    </tr>\n",
       "    <tr>\n",
       "      <th>2021-01-06</th>\n",
       "      <td>-0.156097</td>\n",
       "    </tr>\n",
       "    <tr>\n",
       "      <th>2021-01-07</th>\n",
       "      <td>-0.156097</td>\n",
       "    </tr>\n",
       "    <tr>\n",
       "      <th>2021-01-08</th>\n",
       "      <td>-0.156097</td>\n",
       "    </tr>\n",
       "  </tbody>\n",
       "</table>\n",
       "</div>"
      ],
      "text/plain": [
       "symbol                SNDL\n",
       "      date                \n",
       "count 2021-01-04 -0.156097\n",
       "      2021-01-05 -0.156097\n",
       "      2021-01-06 -0.156097\n",
       "      2021-01-07 -0.156097\n",
       "      2021-01-08 -0.156097"
      ]
     },
     "execution_count": 13,
     "metadata": {},
     "output_type": "execute_result"
    }
   ],
   "source": [
    "# convert mentions to zscores\n",
    "# transpose df_counts_final to make zscore operation easieer, will transpose back later\n",
    "df_counts_sndl_t = df_counts_sndl.T\n",
    "\n",
    "# find zscore of mentions of each day\n",
    "from scipy.stats import zscore\n",
    "df_counts_sndl_t = df_counts_sndl_t.apply(zscore)\n",
    "\n",
    "# undo transpose\n",
    "df_counts_sndl = df_counts_sndl_t.T\n",
    "df_counts_sndl.T.head()"
   ]
  },
  {
   "cell_type": "code",
   "execution_count": 16,
   "metadata": {
    "colab": {
     "base_uri": "https://localhost:8080/",
     "height": 204
    },
    "id": "sZbWSN-GWQUV",
    "outputId": "9dbc5668-ad43-4692-e00e-857d406957dd"
   },
   "outputs": [
    {
     "data": {
      "text/html": [
       "<div>\n",
       "<style scoped>\n",
       "    .dataframe tbody tr th:only-of-type {\n",
       "        vertical-align: middle;\n",
       "    }\n",
       "\n",
       "    .dataframe tbody tr th {\n",
       "        vertical-align: top;\n",
       "    }\n",
       "\n",
       "    .dataframe thead th {\n",
       "        text-align: right;\n",
       "    }\n",
       "</style>\n",
       "<table border=\"1\" class=\"dataframe\">\n",
       "  <thead>\n",
       "    <tr style=\"text-align: right;\">\n",
       "      <th></th>\n",
       "      <th>open</th>\n",
       "      <th>high</th>\n",
       "      <th>low</th>\n",
       "      <th>close</th>\n",
       "      <th>volume</th>\n",
       "      <th>adj_high</th>\n",
       "      <th>adj_low</th>\n",
       "      <th>adj_close</th>\n",
       "      <th>adj_open</th>\n",
       "      <th>adj_volume</th>\n",
       "      <th>split_factor</th>\n",
       "      <th>symbol</th>\n",
       "      <th>exchange</th>\n",
       "      <th>date</th>\n",
       "      <th>close % change</th>\n",
       "      <th>rise/fall</th>\n",
       "    </tr>\n",
       "  </thead>\n",
       "  <tbody>\n",
       "    <tr>\n",
       "      <th>99</th>\n",
       "      <td>0.3460</td>\n",
       "      <td>0.3500</td>\n",
       "      <td>0.2915</td>\n",
       "      <td>0.3009</td>\n",
       "      <td>5.776329e+08</td>\n",
       "      <td>0.3500</td>\n",
       "      <td>0.2915</td>\n",
       "      <td>0.3009</td>\n",
       "      <td>0.3460</td>\n",
       "      <td>5.776329e+08</td>\n",
       "      <td>1.0</td>\n",
       "      <td>SNDL</td>\n",
       "      <td>XNAS</td>\n",
       "      <td>2020-11-24</td>\n",
       "      <td>NaN</td>\n",
       "      <td>NaN</td>\n",
       "    </tr>\n",
       "    <tr>\n",
       "      <th>98</th>\n",
       "      <td>0.2827</td>\n",
       "      <td>0.2900</td>\n",
       "      <td>0.2668</td>\n",
       "      <td>0.2800</td>\n",
       "      <td>1.776889e+08</td>\n",
       "      <td>0.2900</td>\n",
       "      <td>0.2668</td>\n",
       "      <td>0.2800</td>\n",
       "      <td>0.2827</td>\n",
       "      <td>1.776889e+08</td>\n",
       "      <td>1.0</td>\n",
       "      <td>SNDL</td>\n",
       "      <td>XNAS</td>\n",
       "      <td>2020-11-25</td>\n",
       "      <td>-0.069458</td>\n",
       "      <td>fall</td>\n",
       "    </tr>\n",
       "    <tr>\n",
       "      <th>97</th>\n",
       "      <td>0.3000</td>\n",
       "      <td>0.3993</td>\n",
       "      <td>0.2998</td>\n",
       "      <td>0.3720</td>\n",
       "      <td>3.890959e+08</td>\n",
       "      <td>0.3993</td>\n",
       "      <td>0.2998</td>\n",
       "      <td>0.3720</td>\n",
       "      <td>0.3000</td>\n",
       "      <td>3.890959e+08</td>\n",
       "      <td>1.0</td>\n",
       "      <td>SNDL</td>\n",
       "      <td>XNAS</td>\n",
       "      <td>2020-11-27</td>\n",
       "      <td>0.328571</td>\n",
       "      <td>rise</td>\n",
       "    </tr>\n",
       "    <tr>\n",
       "      <th>96</th>\n",
       "      <td>0.4935</td>\n",
       "      <td>0.8600</td>\n",
       "      <td>0.4550</td>\n",
       "      <td>0.7294</td>\n",
       "      <td>2.017439e+09</td>\n",
       "      <td>0.8600</td>\n",
       "      <td>0.4550</td>\n",
       "      <td>0.7294</td>\n",
       "      <td>0.4935</td>\n",
       "      <td>2.017439e+09</td>\n",
       "      <td>1.0</td>\n",
       "      <td>SNDL</td>\n",
       "      <td>XNAS</td>\n",
       "      <td>2020-11-30</td>\n",
       "      <td>0.960753</td>\n",
       "      <td>rise</td>\n",
       "    </tr>\n",
       "    <tr>\n",
       "      <th>95</th>\n",
       "      <td>0.9118</td>\n",
       "      <td>0.9500</td>\n",
       "      <td>0.5829</td>\n",
       "      <td>0.6525</td>\n",
       "      <td>1.251403e+09</td>\n",
       "      <td>0.9500</td>\n",
       "      <td>0.5829</td>\n",
       "      <td>0.6525</td>\n",
       "      <td>0.9118</td>\n",
       "      <td>1.251403e+09</td>\n",
       "      <td>1.0</td>\n",
       "      <td>SNDL</td>\n",
       "      <td>XNAS</td>\n",
       "      <td>2020-12-01</td>\n",
       "      <td>-0.105429</td>\n",
       "      <td>fall</td>\n",
       "    </tr>\n",
       "  </tbody>\n",
       "</table>\n",
       "</div>"
      ],
      "text/plain": [
       "      open    high     low   close        volume  adj_high  adj_low  \\\n",
       "99  0.3460  0.3500  0.2915  0.3009  5.776329e+08    0.3500   0.2915   \n",
       "98  0.2827  0.2900  0.2668  0.2800  1.776889e+08    0.2900   0.2668   \n",
       "97  0.3000  0.3993  0.2998  0.3720  3.890959e+08    0.3993   0.2998   \n",
       "96  0.4935  0.8600  0.4550  0.7294  2.017439e+09    0.8600   0.4550   \n",
       "95  0.9118  0.9500  0.5829  0.6525  1.251403e+09    0.9500   0.5829   \n",
       "\n",
       "    adj_close  adj_open    adj_volume  split_factor symbol exchange  \\\n",
       "99     0.3009    0.3460  5.776329e+08           1.0   SNDL     XNAS   \n",
       "98     0.2800    0.2827  1.776889e+08           1.0   SNDL     XNAS   \n",
       "97     0.3720    0.3000  3.890959e+08           1.0   SNDL     XNAS   \n",
       "96     0.7294    0.4935  2.017439e+09           1.0   SNDL     XNAS   \n",
       "95     0.6525    0.9118  1.251403e+09           1.0   SNDL     XNAS   \n",
       "\n",
       "          date  close % change rise/fall  \n",
       "99  2020-11-24             NaN       NaN  \n",
       "98  2020-11-25       -0.069458      fall  \n",
       "97  2020-11-27        0.328571      rise  \n",
       "96  2020-11-30        0.960753      rise  \n",
       "95  2020-12-01       -0.105429      fall  "
      ]
     },
     "execution_count": 16,
     "metadata": {},
     "output_type": "execute_result"
    }
   ],
   "source": [
    "# Actual Price movements -- if the close price rose or fell each day\n",
    "# get price history\n",
    "df_sndl_history = ticker_history('sndl')\n",
    "\n",
    "# make sure that it is sorted by date so that percent change in price is a meaningful measure\n",
    "df_sndl_history['date'] = pd.to_datetime(df_sndl_history['date']).dt.date\n",
    "df_sndl_history = df_sndl_history.sort_values(by='date')\n",
    "\n",
    "# create column for percent change as a percentage\n",
    "df_sndl_history['close % change'] = df_sndl_history['close'].pct_change()\n",
    "\n",
    "# create categories from percent change -- rise, fall, no change\n",
    "df_sndl_history.loc[df_sndl_history['close % change'] > 0, 'rise/fall'] = 'rise'\n",
    "df_sndl_history.loc[df_sndl_history['close % change'] < 0, 'rise/fall'] = 'fall'\n",
    "df_sndl_history.loc[df_sndl_history['close % change'] == 0, 'rise/fall'] = 'no change'\n",
    "\n",
    "df_sndl_history.head()"
   ]
  },
  {
   "cell_type": "code",
   "execution_count": 17,
   "metadata": {
    "colab": {
     "base_uri": "https://localhost:8080/",
     "height": 450
    },
    "id": "fNgib6P_Ztq4",
    "outputId": "4d540369-81c5-49c8-a45a-7b60ba4d8297"
   },
   "outputs": [
    {
     "data": {
      "text/html": [
       "<div>\n",
       "<style scoped>\n",
       "    .dataframe tbody tr th:only-of-type {\n",
       "        vertical-align: middle;\n",
       "    }\n",
       "\n",
       "    .dataframe tbody tr th {\n",
       "        vertical-align: top;\n",
       "    }\n",
       "\n",
       "    .dataframe thead th {\n",
       "        text-align: right;\n",
       "    }\n",
       "</style>\n",
       "<table border=\"1\" class=\"dataframe\">\n",
       "  <thead>\n",
       "    <tr style=\"text-align: right;\">\n",
       "      <th></th>\n",
       "      <th>symbol</th>\n",
       "      <th>SNDL</th>\n",
       "    </tr>\n",
       "    <tr>\n",
       "      <th></th>\n",
       "      <th>date</th>\n",
       "      <th></th>\n",
       "    </tr>\n",
       "  </thead>\n",
       "  <tbody>\n",
       "    <tr>\n",
       "      <th rowspan=\"11\" valign=\"top\">count</th>\n",
       "      <th>2021-01-04</th>\n",
       "      <td>-0.156097</td>\n",
       "    </tr>\n",
       "    <tr>\n",
       "      <th>2021-01-05</th>\n",
       "      <td>-0.156097</td>\n",
       "    </tr>\n",
       "    <tr>\n",
       "      <th>2021-01-06</th>\n",
       "      <td>-0.156097</td>\n",
       "    </tr>\n",
       "    <tr>\n",
       "      <th>2021-01-07</th>\n",
       "      <td>-0.156097</td>\n",
       "    </tr>\n",
       "    <tr>\n",
       "      <th>2021-01-08</th>\n",
       "      <td>-0.156097</td>\n",
       "    </tr>\n",
       "    <tr>\n",
       "      <th>...</th>\n",
       "      <td>...</td>\n",
       "    </tr>\n",
       "    <tr>\n",
       "      <th>2021-04-01</th>\n",
       "      <td>-0.156097</td>\n",
       "    </tr>\n",
       "    <tr>\n",
       "      <th>2021-04-02</th>\n",
       "      <td>-0.156097</td>\n",
       "    </tr>\n",
       "    <tr>\n",
       "      <th>2021-04-04</th>\n",
       "      <td>-0.141567</td>\n",
       "    </tr>\n",
       "    <tr>\n",
       "      <th>2021-04-05</th>\n",
       "      <td>-0.156097</td>\n",
       "    </tr>\n",
       "    <tr>\n",
       "      <th>2021-04-06</th>\n",
       "      <td>-0.156097</td>\n",
       "    </tr>\n",
       "  </tbody>\n",
       "</table>\n",
       "<p>74 rows × 1 columns</p>\n",
       "</div>"
      ],
      "text/plain": [
       "symbol                SNDL\n",
       "      date                \n",
       "count 2021-01-04 -0.156097\n",
       "      2021-01-05 -0.156097\n",
       "      2021-01-06 -0.156097\n",
       "      2021-01-07 -0.156097\n",
       "      2021-01-08 -0.156097\n",
       "...                    ...\n",
       "      2021-04-01 -0.156097\n",
       "      2021-04-02 -0.156097\n",
       "      2021-04-04 -0.141567\n",
       "      2021-04-05 -0.156097\n",
       "      2021-04-06 -0.156097\n",
       "\n",
       "[74 rows x 1 columns]"
      ]
     },
     "execution_count": 17,
     "metadata": {},
     "output_type": "execute_result"
    }
   ],
   "source": [
    "df_counts_sndl.T"
   ]
  },
  {
   "cell_type": "code",
   "execution_count": 18,
   "metadata": {
    "colab": {
     "base_uri": "https://localhost:8080/",
     "height": 204
    },
    "id": "aLECgDZMbBK2",
    "outputId": "23f56d38-9b74-4ed1-c102-d059aa3a4668"
   },
   "outputs": [
    {
     "data": {
      "text/html": [
       "<div>\n",
       "<style scoped>\n",
       "    .dataframe tbody tr th:only-of-type {\n",
       "        vertical-align: middle;\n",
       "    }\n",
       "\n",
       "    .dataframe tbody tr th {\n",
       "        vertical-align: top;\n",
       "    }\n",
       "\n",
       "    .dataframe thead th {\n",
       "        text-align: right;\n",
       "    }\n",
       "</style>\n",
       "<table border=\"1\" class=\"dataframe\">\n",
       "  <thead>\n",
       "    <tr style=\"text-align: right;\">\n",
       "      <th>symbol</th>\n",
       "      <th>date</th>\n",
       "      <th>SNDL</th>\n",
       "    </tr>\n",
       "  </thead>\n",
       "  <tbody>\n",
       "    <tr>\n",
       "      <th>0</th>\n",
       "      <td>2021-01-04</td>\n",
       "      <td>-0.156097</td>\n",
       "    </tr>\n",
       "    <tr>\n",
       "      <th>1</th>\n",
       "      <td>2021-01-05</td>\n",
       "      <td>-0.156097</td>\n",
       "    </tr>\n",
       "    <tr>\n",
       "      <th>2</th>\n",
       "      <td>2021-01-06</td>\n",
       "      <td>-0.156097</td>\n",
       "    </tr>\n",
       "    <tr>\n",
       "      <th>3</th>\n",
       "      <td>2021-01-07</td>\n",
       "      <td>-0.156097</td>\n",
       "    </tr>\n",
       "    <tr>\n",
       "      <th>4</th>\n",
       "      <td>2021-01-08</td>\n",
       "      <td>-0.156097</td>\n",
       "    </tr>\n",
       "  </tbody>\n",
       "</table>\n",
       "</div>"
      ],
      "text/plain": [
       "symbol        date      SNDL\n",
       "0       2021-01-04 -0.156097\n",
       "1       2021-01-05 -0.156097\n",
       "2       2021-01-06 -0.156097\n",
       "3       2021-01-07 -0.156097\n",
       "4       2021-01-08 -0.156097"
      ]
     },
     "execution_count": 18,
     "metadata": {},
     "output_type": "execute_result"
    }
   ],
   "source": [
    "# remove heirarchical index\n",
    "df_sndl_no_multi_index = df_counts_sndl.T.reset_index()\n",
    "df_sndl = df_sndl_no_multi_index.reset_index()\n",
    "\n",
    "# remove unneccesary columns\n",
    "del df_sndl['level_0']\n",
    "del df_sndl['index']\n",
    "\n",
    "df_sndl.head()"
   ]
  },
  {
   "cell_type": "code",
   "execution_count": 19,
   "metadata": {
    "id": "xVj-OW-Xc10e"
   },
   "outputs": [
    {
     "data": {
      "text/html": [
       "<div>\n",
       "<style scoped>\n",
       "    .dataframe tbody tr th:only-of-type {\n",
       "        vertical-align: middle;\n",
       "    }\n",
       "\n",
       "    .dataframe tbody tr th {\n",
       "        vertical-align: top;\n",
       "    }\n",
       "\n",
       "    .dataframe thead th {\n",
       "        text-align: right;\n",
       "    }\n",
       "</style>\n",
       "<table border=\"1\" class=\"dataframe\">\n",
       "  <thead>\n",
       "    <tr style=\"text-align: right;\">\n",
       "      <th>symbol</th>\n",
       "      <th>date</th>\n",
       "      <th>SNDL</th>\n",
       "      <th>price movement</th>\n",
       "    </tr>\n",
       "  </thead>\n",
       "  <tbody>\n",
       "    <tr>\n",
       "      <th>0</th>\n",
       "      <td>2021-01-04</td>\n",
       "      <td>-0.156097</td>\n",
       "      <td>rise</td>\n",
       "    </tr>\n",
       "    <tr>\n",
       "      <th>1</th>\n",
       "      <td>2021-01-05</td>\n",
       "      <td>-0.156097</td>\n",
       "      <td>fall</td>\n",
       "    </tr>\n",
       "    <tr>\n",
       "      <th>2</th>\n",
       "      <td>2021-01-06</td>\n",
       "      <td>-0.156097</td>\n",
       "      <td>rise</td>\n",
       "    </tr>\n",
       "    <tr>\n",
       "      <th>3</th>\n",
       "      <td>2021-01-07</td>\n",
       "      <td>-0.156097</td>\n",
       "      <td>rise</td>\n",
       "    </tr>\n",
       "    <tr>\n",
       "      <th>4</th>\n",
       "      <td>2021-01-08</td>\n",
       "      <td>-0.156097</td>\n",
       "      <td>fall</td>\n",
       "    </tr>\n",
       "  </tbody>\n",
       "</table>\n",
       "</div>"
      ],
      "text/plain": [
       "symbol        date      SNDL price movement\n",
       "0       2021-01-04 -0.156097           rise\n",
       "1       2021-01-05 -0.156097           fall\n",
       "2       2021-01-06 -0.156097           rise\n",
       "3       2021-01-07 -0.156097           rise\n",
       "4       2021-01-08 -0.156097           fall"
      ]
     },
     "execution_count": 19,
     "metadata": {},
     "output_type": "execute_result"
    }
   ],
   "source": [
    "# combine datasets (reddit + marketstack)\n",
    "# ensure both date columns are datetime.date objects for consistency\n",
    "df_sndl['date'] = pd.to_datetime(df_sndl['date']).dt.date\n",
    "df_sndl_history['date'] = pd.to_datetime(df_sndl_history['date']).dt.date\n",
    "\n",
    "\n",
    "# remove dates that aren't in both dataframes -- account for markets being closed on weekends and other factors\n",
    "date_list = df_sndl['date'].tolist()\n",
    "\n",
    "df_sndl_history = df_sndl_history[df_sndl_history['date'].isin(date_list)]\n",
    "\n",
    "sndl_date_list = df_sndl_history['date'].tolist()\n",
    "df_sndl = df_sndl[df_sndl['date'].isin(sndl_date_list)]\n",
    "\n",
    "df_sndl_history = df_sndl_history.sort_values(by='date')\n",
    "df_sndl = df_sndl.sort_values(by='date')\n",
    "\n",
    "# add price movements column - we can just assign a copy since we know both dataframes \n",
    "# only contain the same dates and are sorted in the same way\n",
    "df_sndl['price movement'] = df_sndl_history['rise/fall'].values\n",
    "\n",
    "df_sndl.head()"
   ]
  },
  {
   "cell_type": "markdown",
   "metadata": {},
   "source": [
    "## Machine Learning\n",
    "\n",
    "We are using a K-Nearest Neighbors classifier with 10-fold cross validation to try and predict movements, and checking the results after using different numbers of neighbors"
   ]
  },
  {
   "cell_type": "code",
   "execution_count": 20,
   "metadata": {
    "id": "pkuKdKpIoLDu"
   },
   "outputs": [
    {
     "name": "stderr",
     "output_type": "stream",
     "text": [
      "C:\\Users\\aleja\\anaconda3\\lib\\site-packages\\sklearn\\model_selection\\_split.py:670: UserWarning: The least populated class in y has only 1 members, which is less than n_splits=10.\n",
      "  warnings.warn((\"The least populated class in y has only %d\"\n",
      "C:\\Users\\aleja\\anaconda3\\lib\\site-packages\\sklearn\\model_selection\\_split.py:670: UserWarning: The least populated class in y has only 1 members, which is less than n_splits=10.\n",
      "  warnings.warn((\"The least populated class in y has only %d\"\n",
      "C:\\Users\\aleja\\anaconda3\\lib\\site-packages\\sklearn\\model_selection\\_split.py:670: UserWarning: The least populated class in y has only 1 members, which is less than n_splits=10.\n",
      "  warnings.warn((\"The least populated class in y has only %d\"\n",
      "C:\\Users\\aleja\\anaconda3\\lib\\site-packages\\sklearn\\model_selection\\_split.py:670: UserWarning: The least populated class in y has only 1 members, which is less than n_splits=10.\n",
      "  warnings.warn((\"The least populated class in y has only %d\"\n",
      "C:\\Users\\aleja\\anaconda3\\lib\\site-packages\\sklearn\\model_selection\\_split.py:670: UserWarning: The least populated class in y has only 1 members, which is less than n_splits=10.\n",
      "  warnings.warn((\"The least populated class in y has only %d\"\n"
     ]
    },
    {
     "data": {
      "image/png": "[encoded data removed]",
      "text/plain": [
       "<Figure size 432x288 with 1 Axes>"
      ]
     },
     "metadata": {
      "needs_background": "light"
     },
     "output_type": "display_data"
    }
   ],
   "source": [
    "from sklearn.neighbors import KNeighborsClassifier\n",
    "from sklearn.model_selection import StratifiedKFold\n",
    "\n",
    "from sklearn.preprocessing import normalize\n",
    "\n",
    "from sklearn.metrics import confusion_matrix\n",
    "\n",
    "# split columns into x (features) and y (labels)\n",
    "x_feat_list = ['SNDL']\n",
    "y_feat = 'price movement'\n",
    "\n",
    "\n",
    "# get x and y for classifiers\n",
    "x = df_sndl.loc[:, x_feat_list].values\n",
    "y_true = df_sndl.loc[:, y_feat].values\n",
    "\n",
    "# we will be using 10 fold cross validation\n",
    "n_splits = 10\n",
    "\n",
    "# dictionary for confusion matrix\n",
    "conf_matrix_sndl_dict = {}\n",
    "\n",
    "for k in (1, 5, 11, 15, 27):\n",
    "    # initialize knn_classifier\n",
    "    knn_classifier = KNeighborsClassifier(n_neighbors=k)\n",
    "    \n",
    "    # cross validation\n",
    "    kfold = StratifiedKFold(n_splits=n_splits)\n",
    "    \n",
    "    # y_pred is empty array same size as y_true\n",
    "    y_pred = np.empty_like(y_true)\n",
    "    \n",
    "    for train_idx, test_idx in kfold.split(x, y_true):\n",
    "        # training data\n",
    "        x_train = x[train_idx, :]\n",
    "        y_true_train = y_true[train_idx]\n",
    "        \n",
    "        # testing data\n",
    "        x_test = x[test_idx, :]\n",
    "        y_true_test = y_true[test_idx]\n",
    "    \n",
    "        # train on training data\n",
    "        knn_classifier.fit(x_train, y_true_train)\n",
    "        \n",
    "        # estimat each song's genre\n",
    "        y_pred[test_idx] = knn_classifier.predict(x_test)\n",
    "    \n",
    "    \n",
    "    # generate confusion matrix\n",
    "    conf_matrix = confusion_matrix(y_true=y_true, y_pred=y_pred)\n",
    "    \n",
    "    plt.scatter(x, y_true, alpha = 0.5)\n",
    "    \n",
    "    # save confusion matrix to conf_matrix_dict\n",
    "    conf_matrix_sndl_dict[k] = conf_matrix"
   ]
  },
  {
   "cell_type": "code",
   "execution_count": 28,
   "metadata": {},
   "outputs": [],
   "source": [
    "import numpy as np\n",
    "import matplotlib.pyplot as plt\n",
    "from matplotlib.colors import ListedColormap\n",
    "from sklearn import neighbors, datasets\n",
    "\n",
    "def knn_comparison(data, k):\n",
    "    # knn neighbours\n",
    "    n_neighbors = k\n",
    "\n",
    "    # import some data to play with\n",
    "    x = data.loc[:, ['SNDL']].values\n",
    "    y = data.loc[:, 'price movement'].values\n",
    "\n",
    "    h = .02  # step size in the mesh\n",
    "\n",
    "    # Create color maps\n",
    "    cmap_light = ListedColormap(['#FFAAAA', '#AAFFAA', '#AAAAFF'])\n",
    "    cmap_bold = ListedColormap(['#FF0000', '#00FF00', '#0000FF'])\n",
    "\n",
    "   \n",
    "     # we create an instance of Neighbours Classifier and fit the data.\n",
    "    clf = KNeighborsClassifier(n_neighbors=k)\n",
    "    clf.fit(x, y)\n",
    "\n",
    "    # Plot the decision boundary. For that, we will assign a color to each\n",
    "    # point in the mesh [x_min, x_max]x[y_min, y_max].\n",
    "    \n",
    "    x_min, x_max = x[:, 0].min() - 1, x[:, 0].max() + 1\n",
    "    y_min, y_max = x[:, 0].min() - 1, x[:, 0].max() + 1\n",
    "    xx, yy = np.meshgrid(np.arange(x_min, x_max, h),\n",
    "                         np.arange(y_min, y_max, h))\n",
    "    Z = clf.predict(np.c_[xx.ravel(), yy.ravel()])\n",
    "\n",
    "    # Put the result into a color plot\n",
    "    Z = Z.reshape(xx.shape)\n",
    "    plt.figure()\n",
    "    plt.pcolormesh(xx, yy, Z, cmap=cmap_light)\n",
    "\n",
    "    # Plot also the training points\n",
    "    plt.scatter(X[:, 0], X[:, 1], c=y, cmap=cmap_bold)\n",
    "    plt.xlim(xx.min(), xx.max())\n",
    "    plt.ylim(yy.min(), yy.max())\n",
    "    plt.title(\"5-Class classification (k = %i, weights = '%s')\"\n",
    "              % (n_neighbors, weights))\n",
    "\n",
    "plt.show()"
   ]
  },
  {
   "cell_type": "code",
   "execution_count": 29,
   "metadata": {},
   "outputs": [],
   "source": [
    "def knn_comparison(data, k):\n",
    "    x = data.loc[:, ['SNDL']].values\n",
    "    y = data.loc[:, 'price movement'].values\n",
    "    clf = neighbors.KNeighborsClassifier(n_neighbors=k)\n",
    "    clf.fit(x, y)\n",
    "    # Plotting decision region\n",
    "    plot_decision_regions(x, y, clf=clf, legend=2)\n",
    "    # Adding axes annotations\n",
    "    plt.xlabel('X')\n",
    "    plt.ylabel('Y')\n",
    "    plt.title('Knn with K='+ str(k))\n",
    "    plt.show()"
   ]
  },
  {
   "cell_type": "code",
   "execution_count": 133,
   "metadata": {},
   "outputs": [],
   "source": [
    "#!pip install mlxtend\n",
    "from mlxtend.plotting import plot_decision_regions\n",
    "def knn_comparison(data, k):\n",
    "    x = data.loc[:, ['SNDL']].values\n",
    "    y = data.loc[:, 'price movement'].values.astype(np.integer)\n",
    "    clf = KNeighborsClassifier(n_neighbors=5)\n",
    "    clf.fit(x, y)\n",
    "    # Plotting decision region\n",
    "    plot_decision_regions(x, y, clf=clf, legend=2)\n",
    "    # Adding axes annotations\n",
    "    plt.xlabel('X')\n",
    "    plt.ylabel('Y')\n",
    "    plt.title('Knn with K='+ str(k))\n",
    "    plt.show()"
   ]
  },
  {
   "cell_type": "code",
   "execution_count": 134,
   "metadata": {},
   "outputs": [
    {
     "name": "stderr",
     "output_type": "stream",
     "text": [
      "<ipython-input-133-18bba6c7d979>:5: DeprecationWarning: Converting `np.integer` or `np.signedinteger` to a dtype is deprecated. The current result is `np.dtype(np.int_)` which is not strictly correct. Note that the result depends on the system. To ensure stable results use may want to use `np.int64` or `np.int32`.\n",
      "  y = data.loc[:, 'price movement'].values.astype(np.integer)\n",
      "/Users/vikramc18/opt/miniconda3/lib/python3.8/site-packages/mlxtend/plotting/decision_regions.py:244: UserWarning: No contour levels were found within the data range.\n",
      "  ax.contour(xx, yy, Z, cset.levels,\n"
     ]
    },
    {
     "data": {
      "image/png": "[encoded data removed]",
      "text/plain": [
       "<Figure size 432x288 with 1 Axes>"
      ]
     },
     "metadata": {
      "needs_background": "light"
     },
     "output_type": "display_data"
    }
   ],
   "source": [
    "knn_comparison(df_sndl, 5)"
   ]
  },
  {
   "cell_type": "code",
   "execution_count": 46,
   "metadata": {
    "id": "K2c3s-KkovVs"
   },
   "outputs": [],
   "source": [
    "def accuracy(conf_matrix):\n",
    "    \"\"\" computes the accuracy of a machine learning classifier based on it's confusion matrix\n",
    "    Args:\n",
    "        conf_matrix (np array) : the confusion matrix created by the classifier, stored in 2D np array      \n",
    "    Returns:\n",
    "        accuracy (float)       : the classifier's accuracy\n",
    "    \"\"\"\n",
    "    # diagonal entries are correct predictions\n",
    "    correct = np.diag(conf_matrix).sum()\n",
    "    \n",
    "    # total sum is the total number of predictions\n",
    "    total = conf_matrix.sum()\n",
    "    \n",
    "    # accuracy is correct/total\n",
    "    accuracy = correct / total\n",
    "    \n",
    "    return accuracy"
   ]
  },
  {
   "cell_type": "code",
   "execution_count": 129,
   "metadata": {
    "id": "kPgtCuFSoy-i"
   },
   "outputs": [],
   "source": [
    "# dict to store accuracy based on each confusion matrix\n",
    "accuracy_sndl_dict = {}\n",
    "\n",
    "# compute accuracy for all confusion matrices in conf_matrix_dict\n",
    "for k, conf_matrix in conf_matrix_sndl_dict.items():\n",
    "    # keys of this dictionary are the same as conf_matrix_dict for clarity\n",
    "    accuracy_sndl_dict[k] = accuracy(conf_matrix)"
   ]
  },
  {
   "cell_type": "code",
   "execution_count": 130,
   "metadata": {
    "colab": {
     "base_uri": "https://localhost:8080/"
    },
    "id": "t6WeHjpvo3F0",
    "outputId": "f7bdf915-cadf-4b4f-de6a-9b27bf1e2edf"
   },
   "outputs": [
    {
     "name": "stdout",
     "output_type": "stream",
     "text": [
      "{1: 0.38461538461538464,\n",
      " 5: 0.36538461538461536,\n",
      " 11: 0.38461538461538464,\n",
      " 15: 0.5576923076923077,\n",
      " 27: 0.5576923076923077}\n"
     ]
    }
   ],
   "source": [
    "# using pprint for better formatting\n",
    "from pprint import pprint\n",
    "# print accuracies\n",
    "pprint(accuracy_sndl_dict)"
   ]
  },
  {
   "cell_type": "markdown",
   "metadata": {},
   "source": [
    "## Display Confusion Matrices for SNDL predictions"
   ]
  },
  {
   "cell_type": "code",
   "execution_count": 49,
   "metadata": {
    "id": "664NLONHo9H5"
   },
   "outputs": [],
   "source": [
    "from sklearn.metrics import ConfusionMatrixDisplay"
   ]
  },
  {
   "cell_type": "code",
   "execution_count": 50,
   "metadata": {
    "colab": {
     "base_uri": "https://localhost:8080/",
     "height": 325
    },
    "id": "f8FTInXCpAvr",
    "outputId": "39e07c14-fbe8-4bc9-f4b0-95df6085e83d"
   },
   "outputs": [
    {
     "data": {
      "text/plain": [
       "Text(0.5, 0.98, 'K=1 NN Classifier')"
      ]
     },
     "execution_count": 50,
     "metadata": {},
     "output_type": "execute_result"
    },
    {
     "data": {
      "image/png": "[encoded data removed]",
      "text/plain": [
       "<Figure size 432x288 with 2 Axes>"
      ]
     },
     "metadata": {
      "needs_background": "light"
     },
     "output_type": "display_data"
    }
   ],
   "source": [
    "# plot 1-NN confusion matrix\n",
    "conf_mat_sndl_1 = ConfusionMatrixDisplay(conf_matrix_sndl_dict[1], display_labels=np.unique(y_true))\n",
    "conf_mat_sndl_1.plot()\n",
    "plt.suptitle('K=1 NN Classifier')"
   ]
  },
  {
   "cell_type": "code",
   "execution_count": 51,
   "metadata": {
    "colab": {
     "base_uri": "https://localhost:8080/",
     "height": 325
    },
    "id": "Xt8CJWaSpEAu",
    "outputId": "689e19fd-04ce-43ba-9e16-4f011b631180"
   },
   "outputs": [
    {
     "data": {
      "text/plain": [
       "Text(0.5, 0.98, 'K=5 NN Classifier')"
      ]
     },
     "execution_count": 51,
     "metadata": {},
     "output_type": "execute_result"
    },
    {
     "data": {
      "image/png": "[encoded data removed]",
      "text/plain": [
       "<Figure size 432x288 with 2 Axes>"
      ]
     },
     "metadata": {
      "needs_background": "light"
     },
     "output_type": "display_data"
    }
   ],
   "source": [
    "# plot 5-NN confusion matrix\n",
    "conf_mat_sndl_5 = ConfusionMatrixDisplay(conf_matrix_sndl_dict[5], display_labels=np.unique(y_true))\n",
    "conf_mat_sndl_5.plot()\n",
    "plt.suptitle('K=5 NN Classifier')"
   ]
  },
  {
   "cell_type": "code",
   "execution_count": 52,
   "metadata": {
    "colab": {
     "base_uri": "https://localhost:8080/",
     "height": 325
    },
    "id": "gvXd49iqpG-7",
    "outputId": "e14c84e7-621d-4b9d-844b-75af29fb04a8"
   },
   "outputs": [
    {
     "data": {
      "text/plain": [
       "Text(0.5, 0.98, 'K=11 NN Classifier')"
      ]
     },
     "execution_count": 52,
     "metadata": {},
     "output_type": "execute_result"
    },
    {
     "data": {
      "image/png": "[encoded data removed]",
      "text/plain": [
       "<Figure size 432x288 with 2 Axes>"
      ]
     },
     "metadata": {
      "needs_background": "light"
     },
     "output_type": "display_data"
    }
   ],
   "source": [
    "# plot 11-NN confusion matrix\n",
    "conf_mat_sndl_11 = ConfusionMatrixDisplay(conf_matrix_sndl_dict[11], display_labels=np.unique(y_true))\n",
    "conf_mat_sndl_11.plot()\n",
    "plt.suptitle('K=11 NN Classifier')"
   ]
  },
  {
   "cell_type": "code",
   "execution_count": 55,
   "metadata": {
    "colab": {
     "base_uri": "https://localhost:8080/",
     "height": 325
    },
    "id": "i3GXeS4upJua",
    "outputId": "51a89ca0-6121-4e5f-aab1-98b46e2ee5be"
   },
   "outputs": [
    {
     "data": {
      "text/plain": [
       "Text(0.5, 0.98, 'K=15 NN Classifier')"
      ]
     },
     "execution_count": 55,
     "metadata": {},
     "output_type": "execute_result"
    },
    {
     "data": {
      "image/png": "[encoded data removed]",
      "text/plain": [
       "<Figure size 432x288 with 2 Axes>"
      ]
     },
     "metadata": {
      "needs_background": "light"
     },
     "output_type": "display_data"
    }
   ],
   "source": [
    "# plot 15-NN confusion matrix\n",
    "conf_mat_sndl_15 = ConfusionMatrixDisplay(conf_matrix_sndl_dict[15], display_labels=np.unique(y_true))\n",
    "conf_mat_sndl_15.plot()\n",
    "plt.suptitle('K=15 NN Classifier')"
   ]
  },
  {
   "cell_type": "code",
   "execution_count": 56,
   "metadata": {
    "colab": {
     "base_uri": "https://localhost:8080/",
     "height": 325
    },
    "id": "tO9_MqALpMqd",
    "outputId": "7b804473-c6bc-4b42-adc9-a74d0c49f69b"
   },
   "outputs": [
    {
     "data": {
      "text/plain": [
       "Text(0.5, 0.98, 'K=27 NN Classifier')"
      ]
     },
     "execution_count": 56,
     "metadata": {},
     "output_type": "execute_result"
    },
    {
     "data": {
      "image/png": "[encoded data removed]",
      "text/plain": [
       "<Figure size 432x288 with 2 Axes>"
      ]
     },
     "metadata": {
      "needs_background": "light"
     },
     "output_type": "display_data"
    }
   ],
   "source": [
    "# plot 27-NN confusion matrix\n",
    "conf_mat_sndl_27 = ConfusionMatrixDisplay(conf_matrix_sndl_dict[27], display_labels=np.unique(y_true))\n",
    "conf_mat_sndl_27.plot()\n",
    "plt.suptitle('K=27 NN Classifier')"
   ]
  },
  {
   "cell_type": "markdown",
   "metadata": {},
   "source": [
    "## Machine learning and Analysis - TSLA\n",
    "\n",
    "trying to see if we can find meaningful results for a correlation between \\$TSLA mentions and it's price movement, as it is amond the symbols with the highest standard deviation in its mentions, while still having a high number of daily mentions"
   ]
  },
  {
   "cell_type": "code",
   "execution_count": 8,
   "metadata": {
    "id": "reserved-commodity"
   },
   "outputs": [],
   "source": [
    "# reload data from csv\n",
    "df_counts = pd.read_csv('symbol_counts.csv', index_col=[0,1])"
   ]
  },
  {
   "cell_type": "code",
   "execution_count": 9,
   "metadata": {
    "colab": {
     "base_uri": "https://localhost:8080/",
     "height": 235
    },
    "id": "rclwFhwkQvBb",
    "outputId": "946e785a-35e5-4648-ea07-083fa6161871"
   },
   "outputs": [
    {
     "data": {
      "text/html": [
       "<div>\n",
       "<style scoped>\n",
       "    .dataframe tbody tr th:only-of-type {\n",
       "        vertical-align: middle;\n",
       "    }\n",
       "\n",
       "    .dataframe tbody tr th {\n",
       "        vertical-align: top;\n",
       "    }\n",
       "\n",
       "    .dataframe thead th {\n",
       "        text-align: right;\n",
       "    }\n",
       "</style>\n",
       "<table border=\"1\" class=\"dataframe\">\n",
       "  <thead>\n",
       "    <tr style=\"text-align: right;\">\n",
       "      <th></th>\n",
       "      <th></th>\n",
       "      <th>count</th>\n",
       "    </tr>\n",
       "    <tr>\n",
       "      <th>symbol</th>\n",
       "      <th>date</th>\n",
       "      <th></th>\n",
       "    </tr>\n",
       "  </thead>\n",
       "  <tbody>\n",
       "    <tr>\n",
       "      <th rowspan=\"5\" valign=\"top\">AACG</th>\n",
       "      <th>2021-01-19</th>\n",
       "      <td>0</td>\n",
       "    </tr>\n",
       "    <tr>\n",
       "      <th>2021-01-26</th>\n",
       "      <td>0</td>\n",
       "    </tr>\n",
       "    <tr>\n",
       "      <th>2021-01-07</th>\n",
       "      <td>0</td>\n",
       "    </tr>\n",
       "    <tr>\n",
       "      <th>2021-01-13</th>\n",
       "      <td>0</td>\n",
       "    </tr>\n",
       "    <tr>\n",
       "      <th>2021-01-15</th>\n",
       "      <td>0</td>\n",
       "    </tr>\n",
       "  </tbody>\n",
       "</table>\n",
       "</div>"
      ],
      "text/plain": [
       "                   count\n",
       "symbol date             \n",
       "AACG   2021-01-19      0\n",
       "       2021-01-26      0\n",
       "       2021-01-07      0\n",
       "       2021-01-13      0\n",
       "       2021-01-15      0"
      ]
     },
     "execution_count": 9,
     "metadata": {},
     "output_type": "execute_result"
    }
   ],
   "source": [
    "df_counts.head()"
   ]
  },
  {
   "cell_type": "code",
   "execution_count": 10,
   "metadata": {
    "id": "ewsX5RJlN5Gm"
   },
   "outputs": [],
   "source": [
    "# treat 2nd level index (date) as columns to make it easier to get z scores and standard deviations for mentions \n",
    "df_count_unstack = df_counts.unstack(level=1)"
   ]
  },
  {
   "cell_type": "code",
   "execution_count": 11,
   "metadata": {
    "colab": {
     "base_uri": "https://localhost:8080/",
     "height": 303
    },
    "id": "X3FEZeMFTCjR",
    "outputId": "0d739910-5ce9-458e-b774-75d63c8a8321"
   },
   "outputs": [
    {
     "data": {
      "text/html": [
       "<div>\n",
       "<style scoped>\n",
       "    .dataframe tbody tr th:only-of-type {\n",
       "        vertical-align: middle;\n",
       "    }\n",
       "\n",
       "    .dataframe tbody tr th {\n",
       "        vertical-align: top;\n",
       "    }\n",
       "\n",
       "    .dataframe thead tr th {\n",
       "        text-align: left;\n",
       "    }\n",
       "\n",
       "    .dataframe thead tr:last-of-type th {\n",
       "        text-align: right;\n",
       "    }\n",
       "</style>\n",
       "<table border=\"1\" class=\"dataframe\">\n",
       "  <thead>\n",
       "    <tr>\n",
       "      <th></th>\n",
       "      <th colspan=\"21\" halign=\"left\">count</th>\n",
       "    </tr>\n",
       "    <tr>\n",
       "      <th>date</th>\n",
       "      <th>2021-01-04</th>\n",
       "      <th>2021-01-05</th>\n",
       "      <th>2021-01-06</th>\n",
       "      <th>2021-01-07</th>\n",
       "      <th>2021-01-08</th>\n",
       "      <th>2021-01-09</th>\n",
       "      <th>2021-01-10</th>\n",
       "      <th>2021-01-11</th>\n",
       "      <th>2021-01-12</th>\n",
       "      <th>2021-01-13</th>\n",
       "      <th>...</th>\n",
       "      <th>2021-03-16</th>\n",
       "      <th>2021-03-28</th>\n",
       "      <th>2021-03-29</th>\n",
       "      <th>2021-03-30</th>\n",
       "      <th>2021-03-31</th>\n",
       "      <th>2021-04-01</th>\n",
       "      <th>2021-04-02</th>\n",
       "      <th>2021-04-04</th>\n",
       "      <th>2021-04-05</th>\n",
       "      <th>2021-04-06</th>\n",
       "    </tr>\n",
       "    <tr>\n",
       "      <th>symbol</th>\n",
       "      <th></th>\n",
       "      <th></th>\n",
       "      <th></th>\n",
       "      <th></th>\n",
       "      <th></th>\n",
       "      <th></th>\n",
       "      <th></th>\n",
       "      <th></th>\n",
       "      <th></th>\n",
       "      <th></th>\n",
       "      <th></th>\n",
       "      <th></th>\n",
       "      <th></th>\n",
       "      <th></th>\n",
       "      <th></th>\n",
       "      <th></th>\n",
       "      <th></th>\n",
       "      <th></th>\n",
       "      <th></th>\n",
       "      <th></th>\n",
       "      <th></th>\n",
       "    </tr>\n",
       "  </thead>\n",
       "  <tbody>\n",
       "    <tr>\n",
       "      <th>AACG</th>\n",
       "      <td>0</td>\n",
       "      <td>0</td>\n",
       "      <td>0</td>\n",
       "      <td>0</td>\n",
       "      <td>0</td>\n",
       "      <td>0</td>\n",
       "      <td>0</td>\n",
       "      <td>0</td>\n",
       "      <td>0</td>\n",
       "      <td>0</td>\n",
       "      <td>...</td>\n",
       "      <td>0</td>\n",
       "      <td>0</td>\n",
       "      <td>0</td>\n",
       "      <td>0</td>\n",
       "      <td>0</td>\n",
       "      <td>0</td>\n",
       "      <td>0</td>\n",
       "      <td>0</td>\n",
       "      <td>0</td>\n",
       "      <td>0</td>\n",
       "    </tr>\n",
       "    <tr>\n",
       "      <th>AACQ</th>\n",
       "      <td>0</td>\n",
       "      <td>0</td>\n",
       "      <td>0</td>\n",
       "      <td>0</td>\n",
       "      <td>0</td>\n",
       "      <td>0</td>\n",
       "      <td>0</td>\n",
       "      <td>0</td>\n",
       "      <td>0</td>\n",
       "      <td>0</td>\n",
       "      <td>...</td>\n",
       "      <td>0</td>\n",
       "      <td>0</td>\n",
       "      <td>0</td>\n",
       "      <td>0</td>\n",
       "      <td>0</td>\n",
       "      <td>0</td>\n",
       "      <td>0</td>\n",
       "      <td>0</td>\n",
       "      <td>0</td>\n",
       "      <td>0</td>\n",
       "    </tr>\n",
       "    <tr>\n",
       "      <th>AACQU</th>\n",
       "      <td>0</td>\n",
       "      <td>0</td>\n",
       "      <td>0</td>\n",
       "      <td>0</td>\n",
       "      <td>0</td>\n",
       "      <td>0</td>\n",
       "      <td>0</td>\n",
       "      <td>0</td>\n",
       "      <td>0</td>\n",
       "      <td>0</td>\n",
       "      <td>...</td>\n",
       "      <td>0</td>\n",
       "      <td>0</td>\n",
       "      <td>0</td>\n",
       "      <td>0</td>\n",
       "      <td>0</td>\n",
       "      <td>0</td>\n",
       "      <td>0</td>\n",
       "      <td>0</td>\n",
       "      <td>0</td>\n",
       "      <td>0</td>\n",
       "    </tr>\n",
       "    <tr>\n",
       "      <th>AACQW</th>\n",
       "      <td>0</td>\n",
       "      <td>0</td>\n",
       "      <td>0</td>\n",
       "      <td>0</td>\n",
       "      <td>0</td>\n",
       "      <td>0</td>\n",
       "      <td>0</td>\n",
       "      <td>0</td>\n",
       "      <td>0</td>\n",
       "      <td>0</td>\n",
       "      <td>...</td>\n",
       "      <td>0</td>\n",
       "      <td>0</td>\n",
       "      <td>0</td>\n",
       "      <td>0</td>\n",
       "      <td>0</td>\n",
       "      <td>0</td>\n",
       "      <td>0</td>\n",
       "      <td>0</td>\n",
       "      <td>0</td>\n",
       "      <td>0</td>\n",
       "    </tr>\n",
       "    <tr>\n",
       "      <th>AAL</th>\n",
       "      <td>0</td>\n",
       "      <td>0</td>\n",
       "      <td>0</td>\n",
       "      <td>0</td>\n",
       "      <td>0</td>\n",
       "      <td>0</td>\n",
       "      <td>0</td>\n",
       "      <td>0</td>\n",
       "      <td>0</td>\n",
       "      <td>0</td>\n",
       "      <td>...</td>\n",
       "      <td>0</td>\n",
       "      <td>0</td>\n",
       "      <td>0</td>\n",
       "      <td>0</td>\n",
       "      <td>0</td>\n",
       "      <td>0</td>\n",
       "      <td>0</td>\n",
       "      <td>0</td>\n",
       "      <td>0</td>\n",
       "      <td>0</td>\n",
       "    </tr>\n",
       "  </tbody>\n",
       "</table>\n",
       "<p>5 rows × 74 columns</p>\n",
       "</div>"
      ],
      "text/plain": [
       "            count                                                         \\\n",
       "date   2021-01-04 2021-01-05 2021-01-06 2021-01-07 2021-01-08 2021-01-09   \n",
       "symbol                                                                     \n",
       "AACG            0          0          0          0          0          0   \n",
       "AACQ            0          0          0          0          0          0   \n",
       "AACQU           0          0          0          0          0          0   \n",
       "AACQW           0          0          0          0          0          0   \n",
       "AAL             0          0          0          0          0          0   \n",
       "\n",
       "                                                    ...                        \\\n",
       "date   2021-01-10 2021-01-11 2021-01-12 2021-01-13  ... 2021-03-16 2021-03-28   \n",
       "symbol                                              ...                         \n",
       "AACG            0          0          0          0  ...          0          0   \n",
       "AACQ            0          0          0          0  ...          0          0   \n",
       "AACQU           0          0          0          0  ...          0          0   \n",
       "AACQW           0          0          0          0  ...          0          0   \n",
       "AAL             0          0          0          0  ...          0          0   \n",
       "\n",
       "                                                                          \\\n",
       "date   2021-03-29 2021-03-30 2021-03-31 2021-04-01 2021-04-02 2021-04-04   \n",
       "symbol                                                                     \n",
       "AACG            0          0          0          0          0          0   \n",
       "AACQ            0          0          0          0          0          0   \n",
       "AACQU           0          0          0          0          0          0   \n",
       "AACQW           0          0          0          0          0          0   \n",
       "AAL             0          0          0          0          0          0   \n",
       "\n",
       "                              \n",
       "date   2021-04-05 2021-04-06  \n",
       "symbol                        \n",
       "AACG            0          0  \n",
       "AACQ            0          0  \n",
       "AACQU           0          0  \n",
       "AACQW           0          0  \n",
       "AAL             0          0  \n",
       "\n",
       "[5 rows x 74 columns]"
      ]
     },
     "execution_count": 11,
     "metadata": {},
     "output_type": "execute_result"
    }
   ],
   "source": [
    "df_count_unstack.head()"
   ]
  },
  {
   "cell_type": "code",
   "execution_count": 12,
   "metadata": {
    "id": "3KXq0nSTS7ot"
   },
   "outputs": [],
   "source": [
    "# swap rows and cols for easier computations/std deviation computation\n",
    "df_count_t = df_count_unstack.T"
   ]
  },
  {
   "cell_type": "code",
   "execution_count": 13,
   "metadata": {
    "id": "pLMolZaa46Uw"
   },
   "outputs": [
    {
     "name": "stdout",
     "output_type": "stream",
     "text": [
      "['SNDL', 'APHA', 'TLRY', 'TSLA', 'AMZN', 'AMD', 'MVIS', 'TA', 'AAPL', 'CGC']\n"
     ]
    }
   ],
   "source": [
    "# figure out which symbols have the most variance in mentions\n",
    "std_series = df_count_t.std()\n",
    "\n",
    "# get top 10 symbols with highest standard deviations\n",
    "high_std_symbol = std_series.sort_values(ascending=False)[:10]\n",
    "\n",
    "# list of symbols with highest variance\n",
    "symbol_list = high_std_symbol.index.tolist()\n",
    "\n",
    "print(symbol_list)"
   ]
  },
  {
   "cell_type": "markdown",
   "metadata": {},
   "source": [
    "## See if we can find a relationship between mentions and price movement for SNDL, the stock with the highest standard deviation in it's mentions"
   ]
  },
  {
   "cell_type": "code",
   "execution_count": 82,
   "metadata": {
    "colab": {
     "base_uri": "https://localhost:8080/",
     "height": 179
    },
    "id": "llLebStTT0gQ",
    "outputId": "a5157476-8b04-4fa4-96d3-99b376f4ed2e"
   },
   "outputs": [
    {
     "data": {
      "text/html": [
       "<div>\n",
       "<style scoped>\n",
       "    .dataframe tbody tr th:only-of-type {\n",
       "        vertical-align: middle;\n",
       "    }\n",
       "\n",
       "    .dataframe tbody tr th {\n",
       "        vertical-align: top;\n",
       "    }\n",
       "\n",
       "    .dataframe thead tr th {\n",
       "        text-align: left;\n",
       "    }\n",
       "\n",
       "    .dataframe thead tr:last-of-type th {\n",
       "        text-align: right;\n",
       "    }\n",
       "</style>\n",
       "<table border=\"1\" class=\"dataframe\">\n",
       "  <thead>\n",
       "    <tr>\n",
       "      <th></th>\n",
       "      <th colspan=\"21\" halign=\"left\">count</th>\n",
       "    </tr>\n",
       "    <tr>\n",
       "      <th>date</th>\n",
       "      <th>2021-01-04</th>\n",
       "      <th>2021-01-05</th>\n",
       "      <th>2021-01-06</th>\n",
       "      <th>2021-01-07</th>\n",
       "      <th>2021-01-08</th>\n",
       "      <th>2021-01-09</th>\n",
       "      <th>2021-01-10</th>\n",
       "      <th>2021-01-11</th>\n",
       "      <th>2021-01-12</th>\n",
       "      <th>2021-01-13</th>\n",
       "      <th>...</th>\n",
       "      <th>2021-03-16</th>\n",
       "      <th>2021-03-28</th>\n",
       "      <th>2021-03-29</th>\n",
       "      <th>2021-03-30</th>\n",
       "      <th>2021-03-31</th>\n",
       "      <th>2021-04-01</th>\n",
       "      <th>2021-04-02</th>\n",
       "      <th>2021-04-04</th>\n",
       "      <th>2021-04-05</th>\n",
       "      <th>2021-04-06</th>\n",
       "    </tr>\n",
       "    <tr>\n",
       "      <th>symbol</th>\n",
       "      <th></th>\n",
       "      <th></th>\n",
       "      <th></th>\n",
       "      <th></th>\n",
       "      <th></th>\n",
       "      <th></th>\n",
       "      <th></th>\n",
       "      <th></th>\n",
       "      <th></th>\n",
       "      <th></th>\n",
       "      <th></th>\n",
       "      <th></th>\n",
       "      <th></th>\n",
       "      <th></th>\n",
       "      <th></th>\n",
       "      <th></th>\n",
       "      <th></th>\n",
       "      <th></th>\n",
       "      <th></th>\n",
       "      <th></th>\n",
       "      <th></th>\n",
       "    </tr>\n",
       "  </thead>\n",
       "  <tbody>\n",
       "    <tr>\n",
       "      <th>TSLA</th>\n",
       "      <td>0</td>\n",
       "      <td>1</td>\n",
       "      <td>3</td>\n",
       "      <td>7</td>\n",
       "      <td>117</td>\n",
       "      <td>72</td>\n",
       "      <td>126</td>\n",
       "      <td>46</td>\n",
       "      <td>20</td>\n",
       "      <td>16</td>\n",
       "      <td>...</td>\n",
       "      <td>0</td>\n",
       "      <td>3</td>\n",
       "      <td>4</td>\n",
       "      <td>5</td>\n",
       "      <td>1</td>\n",
       "      <td>6</td>\n",
       "      <td>4</td>\n",
       "      <td>1</td>\n",
       "      <td>11</td>\n",
       "      <td>6</td>\n",
       "    </tr>\n",
       "  </tbody>\n",
       "</table>\n",
       "<p>1 rows × 74 columns</p>\n",
       "</div>"
      ],
      "text/plain": [
       "            count                                                         \\\n",
       "date   2021-01-04 2021-01-05 2021-01-06 2021-01-07 2021-01-08 2021-01-09   \n",
       "symbol                                                                     \n",
       "TSLA            0          1          3          7        117         72   \n",
       "\n",
       "                                                    ...                        \\\n",
       "date   2021-01-10 2021-01-11 2021-01-12 2021-01-13  ... 2021-03-16 2021-03-28   \n",
       "symbol                                              ...                         \n",
       "TSLA          126         46         20         16  ...          0          3   \n",
       "\n",
       "                                                                          \\\n",
       "date   2021-03-29 2021-03-30 2021-03-31 2021-04-01 2021-04-02 2021-04-04   \n",
       "symbol                                                                     \n",
       "TSLA            4          5          1          6          4          1   \n",
       "\n",
       "                              \n",
       "date   2021-04-05 2021-04-06  \n",
       "symbol                        \n",
       "TSLA           11          6  \n",
       "\n",
       "[1 rows x 74 columns]"
      ]
     },
     "execution_count": 82,
     "metadata": {},
     "output_type": "execute_result"
    }
   ],
   "source": [
    "# remove all symbols that aren't the ones with 10 highest std devs\n",
    "df_counts_tsla = df_count_unstack.loc[['TSLA']]\n",
    "\n",
    "df_counts_tsla.head(10)"
   ]
  },
  {
   "cell_type": "code",
   "execution_count": 83,
   "metadata": {
    "colab": {
     "base_uri": "https://localhost:8080/",
     "height": 235
    },
    "id": "zaP6TsluURPK",
    "outputId": "3cb427ee-4576-484a-ee66-fae9c92047e8"
   },
   "outputs": [
    {
     "data": {
      "text/html": [
       "<div>\n",
       "<style scoped>\n",
       "    .dataframe tbody tr th:only-of-type {\n",
       "        vertical-align: middle;\n",
       "    }\n",
       "\n",
       "    .dataframe tbody tr th {\n",
       "        vertical-align: top;\n",
       "    }\n",
       "\n",
       "    .dataframe thead th {\n",
       "        text-align: right;\n",
       "    }\n",
       "</style>\n",
       "<table border=\"1\" class=\"dataframe\">\n",
       "  <thead>\n",
       "    <tr style=\"text-align: right;\">\n",
       "      <th></th>\n",
       "      <th>symbol</th>\n",
       "      <th>TSLA</th>\n",
       "    </tr>\n",
       "    <tr>\n",
       "      <th></th>\n",
       "      <th>date</th>\n",
       "      <th></th>\n",
       "    </tr>\n",
       "  </thead>\n",
       "  <tbody>\n",
       "    <tr>\n",
       "      <th rowspan=\"5\" valign=\"top\">count</th>\n",
       "      <th>2021-01-04</th>\n",
       "      <td>-0.671128</td>\n",
       "    </tr>\n",
       "    <tr>\n",
       "      <th>2021-01-05</th>\n",
       "      <td>-0.626143</td>\n",
       "    </tr>\n",
       "    <tr>\n",
       "      <th>2021-01-06</th>\n",
       "      <td>-0.536173</td>\n",
       "    </tr>\n",
       "    <tr>\n",
       "      <th>2021-01-07</th>\n",
       "      <td>-0.356233</td>\n",
       "    </tr>\n",
       "    <tr>\n",
       "      <th>2021-01-08</th>\n",
       "      <td>4.592122</td>\n",
       "    </tr>\n",
       "  </tbody>\n",
       "</table>\n",
       "</div>"
      ],
      "text/plain": [
       "symbol                TSLA\n",
       "      date                \n",
       "count 2021-01-04 -0.671128\n",
       "      2021-01-05 -0.626143\n",
       "      2021-01-06 -0.536173\n",
       "      2021-01-07 -0.356233\n",
       "      2021-01-08  4.592122"
      ]
     },
     "execution_count": 83,
     "metadata": {},
     "output_type": "execute_result"
    }
   ],
   "source": [
    "# convert mentions to zscores\n",
    "# transpose df_counts_final to make zscore operation easieer, will transpose back later\n",
    "df_counts_tsla_t = df_counts_tsla.T\n",
    "\n",
    "# find zscore of mentions of each day\n",
    "from scipy.stats import zscore\n",
    "df_counts_tsla_t = df_counts_tsla_t.apply(zscore)\n",
    "\n",
    "# undo transpose\n",
    "df_counts_tsla = df_counts_tsla_t.T\n",
    "df_counts_tsla.T.head()"
   ]
  },
  {
   "cell_type": "code",
   "execution_count": 84,
   "metadata": {
    "colab": {
     "base_uri": "https://localhost:8080/",
     "height": 204
    },
    "id": "sZbWSN-GWQUV",
    "outputId": "9dbc5668-ad43-4692-e00e-857d406957dd"
   },
   "outputs": [
    {
     "data": {
      "text/html": [
       "<div>\n",
       "<style scoped>\n",
       "    .dataframe tbody tr th:only-of-type {\n",
       "        vertical-align: middle;\n",
       "    }\n",
       "\n",
       "    .dataframe tbody tr th {\n",
       "        vertical-align: top;\n",
       "    }\n",
       "\n",
       "    .dataframe thead th {\n",
       "        text-align: right;\n",
       "    }\n",
       "</style>\n",
       "<table border=\"1\" class=\"dataframe\">\n",
       "  <thead>\n",
       "    <tr style=\"text-align: right;\">\n",
       "      <th></th>\n",
       "      <th>open</th>\n",
       "      <th>high</th>\n",
       "      <th>low</th>\n",
       "      <th>close</th>\n",
       "      <th>volume</th>\n",
       "      <th>adj_high</th>\n",
       "      <th>adj_low</th>\n",
       "      <th>adj_close</th>\n",
       "      <th>adj_open</th>\n",
       "      <th>adj_volume</th>\n",
       "      <th>split_factor</th>\n",
       "      <th>symbol</th>\n",
       "      <th>exchange</th>\n",
       "      <th>date</th>\n",
       "      <th>close % change</th>\n",
       "      <th>rise/fall</th>\n",
       "    </tr>\n",
       "  </thead>\n",
       "  <tbody>\n",
       "    <tr>\n",
       "      <th>99</th>\n",
       "      <td>492.00</td>\n",
       "      <td>508.6112</td>\n",
       "      <td>487.57</td>\n",
       "      <td>499.27</td>\n",
       "      <td>62475346.0</td>\n",
       "      <td>508.6112</td>\n",
       "      <td>487.57</td>\n",
       "      <td>499.27</td>\n",
       "      <td>492.00</td>\n",
       "      <td>62475346.0</td>\n",
       "      <td>1.0</td>\n",
       "      <td>TSLA</td>\n",
       "      <td>XNAS</td>\n",
       "      <td>2020-11-19</td>\n",
       "      <td>NaN</td>\n",
       "      <td>NaN</td>\n",
       "    </tr>\n",
       "    <tr>\n",
       "      <th>98</th>\n",
       "      <td>497.99</td>\n",
       "      <td>502.5000</td>\n",
       "      <td>489.06</td>\n",
       "      <td>489.61</td>\n",
       "      <td>32911922.0</td>\n",
       "      <td>502.5000</td>\n",
       "      <td>489.06</td>\n",
       "      <td>489.61</td>\n",
       "      <td>497.99</td>\n",
       "      <td>32911922.0</td>\n",
       "      <td>1.0</td>\n",
       "      <td>TSLA</td>\n",
       "      <td>XNAS</td>\n",
       "      <td>2020-11-20</td>\n",
       "      <td>-0.019348</td>\n",
       "      <td>fall</td>\n",
       "    </tr>\n",
       "    <tr>\n",
       "      <th>97</th>\n",
       "      <td>503.50</td>\n",
       "      <td>526.0000</td>\n",
       "      <td>501.79</td>\n",
       "      <td>521.85</td>\n",
       "      <td>50260304.0</td>\n",
       "      <td>526.0000</td>\n",
       "      <td>501.79</td>\n",
       "      <td>521.85</td>\n",
       "      <td>503.50</td>\n",
       "      <td>50260304.0</td>\n",
       "      <td>1.0</td>\n",
       "      <td>TSLA</td>\n",
       "      <td>XNAS</td>\n",
       "      <td>2020-11-23</td>\n",
       "      <td>0.065848</td>\n",
       "      <td>rise</td>\n",
       "    </tr>\n",
       "    <tr>\n",
       "      <th>96</th>\n",
       "      <td>540.40</td>\n",
       "      <td>559.9900</td>\n",
       "      <td>526.20</td>\n",
       "      <td>555.38</td>\n",
       "      <td>52058771.0</td>\n",
       "      <td>559.9900</td>\n",
       "      <td>526.20</td>\n",
       "      <td>555.38</td>\n",
       "      <td>540.40</td>\n",
       "      <td>52058771.0</td>\n",
       "      <td>1.0</td>\n",
       "      <td>TSLA</td>\n",
       "      <td>XNAS</td>\n",
       "      <td>2020-11-24</td>\n",
       "      <td>0.064252</td>\n",
       "      <td>rise</td>\n",
       "    </tr>\n",
       "    <tr>\n",
       "      <th>95</th>\n",
       "      <td>550.06</td>\n",
       "      <td>574.0000</td>\n",
       "      <td>545.37</td>\n",
       "      <td>574.00</td>\n",
       "      <td>48930162.0</td>\n",
       "      <td>574.0000</td>\n",
       "      <td>545.37</td>\n",
       "      <td>574.00</td>\n",
       "      <td>550.06</td>\n",
       "      <td>48930162.0</td>\n",
       "      <td>1.0</td>\n",
       "      <td>TSLA</td>\n",
       "      <td>XNAS</td>\n",
       "      <td>2020-11-25</td>\n",
       "      <td>0.033527</td>\n",
       "      <td>rise</td>\n",
       "    </tr>\n",
       "  </tbody>\n",
       "</table>\n",
       "</div>"
      ],
      "text/plain": [
       "      open      high     low   close      volume  adj_high  adj_low  \\\n",
       "99  492.00  508.6112  487.57  499.27  62475346.0  508.6112   487.57   \n",
       "98  497.99  502.5000  489.06  489.61  32911922.0  502.5000   489.06   \n",
       "97  503.50  526.0000  501.79  521.85  50260304.0  526.0000   501.79   \n",
       "96  540.40  559.9900  526.20  555.38  52058771.0  559.9900   526.20   \n",
       "95  550.06  574.0000  545.37  574.00  48930162.0  574.0000   545.37   \n",
       "\n",
       "    adj_close  adj_open  adj_volume  split_factor symbol exchange        date  \\\n",
       "99     499.27    492.00  62475346.0           1.0   TSLA     XNAS  2020-11-19   \n",
       "98     489.61    497.99  32911922.0           1.0   TSLA     XNAS  2020-11-20   \n",
       "97     521.85    503.50  50260304.0           1.0   TSLA     XNAS  2020-11-23   \n",
       "96     555.38    540.40  52058771.0           1.0   TSLA     XNAS  2020-11-24   \n",
       "95     574.00    550.06  48930162.0           1.0   TSLA     XNAS  2020-11-25   \n",
       "\n",
       "    close % change rise/fall  \n",
       "99             NaN       NaN  \n",
       "98       -0.019348      fall  \n",
       "97        0.065848      rise  \n",
       "96        0.064252      rise  \n",
       "95        0.033527      rise  "
      ]
     },
     "execution_count": 84,
     "metadata": {},
     "output_type": "execute_result"
    }
   ],
   "source": [
    "# Actual Price movements -- if the close price rose or fell each day\n",
    "# get price history\n",
    "df_tsla_history = ticker_history('tsla')\n",
    "\n",
    "# make sure that it is sorted by date so that percent change in price is a meaningful measure\n",
    "df_tsla_history['date'] = pd.to_datetime(df_tsla_history['date']).dt.date\n",
    "df_tsla_history = df_tsla_history.sort_values(by='date')\n",
    "\n",
    "# create column for percent change as a percentage\n",
    "df_tsla_history['close % change'] = df_tsla_history['close'].pct_change()\n",
    "\n",
    "# create categories from percent change -- rise, fall, no change\n",
    "df_tsla_history.loc[df_tsla_history['close % change'] > 0, 'rise/fall'] = 'rise'\n",
    "df_tsla_history.loc[df_tsla_history['close % change'] < 0, 'rise/fall'] = 'fall'\n",
    "df_tsla_history.loc[df_tsla_history['close % change'] == 0, 'rise/fall'] = 'no change'\n",
    "\n",
    "df_tsla_history.head()"
   ]
  },
  {
   "cell_type": "code",
   "execution_count": 85,
   "metadata": {
    "colab": {
     "base_uri": "https://localhost:8080/",
     "height": 450
    },
    "id": "fNgib6P_Ztq4",
    "outputId": "4d540369-81c5-49c8-a45a-7b60ba4d8297"
   },
   "outputs": [
    {
     "data": {
      "text/html": [
       "<div>\n",
       "<style scoped>\n",
       "    .dataframe tbody tr th:only-of-type {\n",
       "        vertical-align: middle;\n",
       "    }\n",
       "\n",
       "    .dataframe tbody tr th {\n",
       "        vertical-align: top;\n",
       "    }\n",
       "\n",
       "    .dataframe thead th {\n",
       "        text-align: right;\n",
       "    }\n",
       "</style>\n",
       "<table border=\"1\" class=\"dataframe\">\n",
       "  <thead>\n",
       "    <tr style=\"text-align: right;\">\n",
       "      <th></th>\n",
       "      <th>symbol</th>\n",
       "      <th>TSLA</th>\n",
       "    </tr>\n",
       "    <tr>\n",
       "      <th></th>\n",
       "      <th>date</th>\n",
       "      <th></th>\n",
       "    </tr>\n",
       "  </thead>\n",
       "  <tbody>\n",
       "    <tr>\n",
       "      <th rowspan=\"11\" valign=\"top\">count</th>\n",
       "      <th>2021-01-04</th>\n",
       "      <td>-0.671128</td>\n",
       "    </tr>\n",
       "    <tr>\n",
       "      <th>2021-01-05</th>\n",
       "      <td>-0.626143</td>\n",
       "    </tr>\n",
       "    <tr>\n",
       "      <th>2021-01-06</th>\n",
       "      <td>-0.536173</td>\n",
       "    </tr>\n",
       "    <tr>\n",
       "      <th>2021-01-07</th>\n",
       "      <td>-0.356233</td>\n",
       "    </tr>\n",
       "    <tr>\n",
       "      <th>2021-01-08</th>\n",
       "      <td>4.592122</td>\n",
       "    </tr>\n",
       "    <tr>\n",
       "      <th>...</th>\n",
       "      <td>...</td>\n",
       "    </tr>\n",
       "    <tr>\n",
       "      <th>2021-04-01</th>\n",
       "      <td>-0.401218</td>\n",
       "    </tr>\n",
       "    <tr>\n",
       "      <th>2021-04-02</th>\n",
       "      <td>-0.491188</td>\n",
       "    </tr>\n",
       "    <tr>\n",
       "      <th>2021-04-04</th>\n",
       "      <td>-0.626143</td>\n",
       "    </tr>\n",
       "    <tr>\n",
       "      <th>2021-04-05</th>\n",
       "      <td>-0.176293</td>\n",
       "    </tr>\n",
       "    <tr>\n",
       "      <th>2021-04-06</th>\n",
       "      <td>-0.401218</td>\n",
       "    </tr>\n",
       "  </tbody>\n",
       "</table>\n",
       "<p>74 rows × 1 columns</p>\n",
       "</div>"
      ],
      "text/plain": [
       "symbol                TSLA\n",
       "      date                \n",
       "count 2021-01-04 -0.671128\n",
       "      2021-01-05 -0.626143\n",
       "      2021-01-06 -0.536173\n",
       "      2021-01-07 -0.356233\n",
       "      2021-01-08  4.592122\n",
       "...                    ...\n",
       "      2021-04-01 -0.401218\n",
       "      2021-04-02 -0.491188\n",
       "      2021-04-04 -0.626143\n",
       "      2021-04-05 -0.176293\n",
       "      2021-04-06 -0.401218\n",
       "\n",
       "[74 rows x 1 columns]"
      ]
     },
     "execution_count": 85,
     "metadata": {},
     "output_type": "execute_result"
    }
   ],
   "source": [
    "df_counts_tsla.T"
   ]
  },
  {
   "cell_type": "code",
   "execution_count": 86,
   "metadata": {
    "colab": {
     "base_uri": "https://localhost:8080/",
     "height": 204
    },
    "id": "aLECgDZMbBK2",
    "outputId": "23f56d38-9b74-4ed1-c102-d059aa3a4668"
   },
   "outputs": [
    {
     "data": {
      "text/html": [
       "<div>\n",
       "<style scoped>\n",
       "    .dataframe tbody tr th:only-of-type {\n",
       "        vertical-align: middle;\n",
       "    }\n",
       "\n",
       "    .dataframe tbody tr th {\n",
       "        vertical-align: top;\n",
       "    }\n",
       "\n",
       "    .dataframe thead th {\n",
       "        text-align: right;\n",
       "    }\n",
       "</style>\n",
       "<table border=\"1\" class=\"dataframe\">\n",
       "  <thead>\n",
       "    <tr style=\"text-align: right;\">\n",
       "      <th>symbol</th>\n",
       "      <th>date</th>\n",
       "      <th>TSLA</th>\n",
       "    </tr>\n",
       "  </thead>\n",
       "  <tbody>\n",
       "    <tr>\n",
       "      <th>0</th>\n",
       "      <td>2021-01-04</td>\n",
       "      <td>-0.671128</td>\n",
       "    </tr>\n",
       "    <tr>\n",
       "      <th>1</th>\n",
       "      <td>2021-01-05</td>\n",
       "      <td>-0.626143</td>\n",
       "    </tr>\n",
       "    <tr>\n",
       "      <th>2</th>\n",
       "      <td>2021-01-06</td>\n",
       "      <td>-0.536173</td>\n",
       "    </tr>\n",
       "    <tr>\n",
       "      <th>3</th>\n",
       "      <td>2021-01-07</td>\n",
       "      <td>-0.356233</td>\n",
       "    </tr>\n",
       "    <tr>\n",
       "      <th>4</th>\n",
       "      <td>2021-01-08</td>\n",
       "      <td>4.592122</td>\n",
       "    </tr>\n",
       "  </tbody>\n",
       "</table>\n",
       "</div>"
      ],
      "text/plain": [
       "symbol        date      TSLA\n",
       "0       2021-01-04 -0.671128\n",
       "1       2021-01-05 -0.626143\n",
       "2       2021-01-06 -0.536173\n",
       "3       2021-01-07 -0.356233\n",
       "4       2021-01-08  4.592122"
      ]
     },
     "execution_count": 86,
     "metadata": {},
     "output_type": "execute_result"
    }
   ],
   "source": [
    "# remove heirarchical index\n",
    "df_tsla_no_multi_index = df_counts_tsla.T.reset_index()\n",
    "df_tsla = df_tsla_no_multi_index.reset_index()\n",
    "\n",
    "# remove unneccesary columns\n",
    "del df_tsla['level_0']\n",
    "del df_tsla['index']\n",
    "\n",
    "df_tsla.head()"
   ]
  },
  {
   "cell_type": "code",
   "execution_count": 87,
   "metadata": {
    "id": "xVj-OW-Xc10e"
   },
   "outputs": [
    {
     "data": {
      "text/html": [
       "<div>\n",
       "<style scoped>\n",
       "    .dataframe tbody tr th:only-of-type {\n",
       "        vertical-align: middle;\n",
       "    }\n",
       "\n",
       "    .dataframe tbody tr th {\n",
       "        vertical-align: top;\n",
       "    }\n",
       "\n",
       "    .dataframe thead th {\n",
       "        text-align: right;\n",
       "    }\n",
       "</style>\n",
       "<table border=\"1\" class=\"dataframe\">\n",
       "  <thead>\n",
       "    <tr style=\"text-align: right;\">\n",
       "      <th>symbol</th>\n",
       "      <th>date</th>\n",
       "      <th>TSLA</th>\n",
       "      <th>price movement</th>\n",
       "    </tr>\n",
       "  </thead>\n",
       "  <tbody>\n",
       "    <tr>\n",
       "      <th>0</th>\n",
       "      <td>2021-01-04</td>\n",
       "      <td>-0.671128</td>\n",
       "      <td>rise</td>\n",
       "    </tr>\n",
       "    <tr>\n",
       "      <th>1</th>\n",
       "      <td>2021-01-05</td>\n",
       "      <td>-0.626143</td>\n",
       "      <td>rise</td>\n",
       "    </tr>\n",
       "    <tr>\n",
       "      <th>2</th>\n",
       "      <td>2021-01-06</td>\n",
       "      <td>-0.536173</td>\n",
       "      <td>rise</td>\n",
       "    </tr>\n",
       "    <tr>\n",
       "      <th>3</th>\n",
       "      <td>2021-01-07</td>\n",
       "      <td>-0.356233</td>\n",
       "      <td>rise</td>\n",
       "    </tr>\n",
       "    <tr>\n",
       "      <th>4</th>\n",
       "      <td>2021-01-08</td>\n",
       "      <td>4.592122</td>\n",
       "      <td>rise</td>\n",
       "    </tr>\n",
       "  </tbody>\n",
       "</table>\n",
       "</div>"
      ],
      "text/plain": [
       "symbol        date      TSLA price movement\n",
       "0       2021-01-04 -0.671128           rise\n",
       "1       2021-01-05 -0.626143           rise\n",
       "2       2021-01-06 -0.536173           rise\n",
       "3       2021-01-07 -0.356233           rise\n",
       "4       2021-01-08  4.592122           rise"
      ]
     },
     "execution_count": 87,
     "metadata": {},
     "output_type": "execute_result"
    }
   ],
   "source": [
    "# combine datasets (reddit + marketstack)\n",
    "# ensure both date columns are datetime.date objects for consistency\n",
    "df_tsla['date'] = pd.to_datetime(df_tsla['date']).dt.date\n",
    "df_tsla_history['date'] = pd.to_datetime(df_tsla_history['date']).dt.date\n",
    "\n",
    "# remove dates that aren't in both dataframes -- account for markets being closed on weekends and other factors\n",
    "date_list = df_tsla['date'].tolist()\n",
    "\n",
    "df_tsla_history = df_tsla_history[df_tsla_history['date'].isin(date_list)]\n",
    "\n",
    "tsla_date_list = df_tsla_history['date'].tolist()\n",
    "df_tsla = df_tsla[df_tsla['date'].isin(tsla_date_list)]\n",
    "\n",
    "df_tsla_history = df_tsla_history.sort_values(by='date')\n",
    "df_tsla = df_tsla.sort_values(by='date')\n",
    "\n",
    "# add price movements column - we can just assign a copy since we know both dataframes \n",
    "# only contain the same dates and are sorted in the same way\n",
    "df_tsla['price movement'] = df_tsla_history['rise/fall'].values\n",
    "\n",
    "df_tsla.head()"
   ]
  },
  {
   "cell_type": "markdown",
   "metadata": {},
   "source": [
    "## Machine Learning\n",
    "\n",
    "We are using a K-Nearest Neighbors classifier with 10-fold cross validation to try and predict movements, and checking the results after using different numbers of neighbors"
   ]
  },
  {
   "cell_type": "code",
   "execution_count": 88,
   "metadata": {
    "id": "pkuKdKpIoLDu"
   },
   "outputs": [],
   "source": [
    "from sklearn.neighbors import KNeighborsClassifier\n",
    "from sklearn.model_selection import StratifiedKFold\n",
    "\n",
    "from sklearn.preprocessing import normalize\n",
    "\n",
    "from sklearn.metrics import confusion_matrix\n",
    "\n",
    "# split columns into x (features) and y (labels)\n",
    "x_feat_list = ['TSLA']\n",
    "y_feat = 'price movement'\n",
    "\n",
    "\n",
    "# get x and y for classifiers\n",
    "x = df_tsla.loc[:, x_feat_list].values\n",
    "y_true = df_tsla.loc[:, y_feat].values\n",
    "\n",
    "# we will be using 10 fold cross validation\n",
    "n_splits = 10\n",
    "\n",
    "# dictionary for confusion matrix\n",
    "conf_matrix_tsla_dict = {}\n",
    "\n",
    "for k in (1, 5, 11, 15, 27):\n",
    "    # initialize knn_classifier\n",
    "    knn_classifier = KNeighborsClassifier(n_neighbors=k)\n",
    "    \n",
    "    # cross validation\n",
    "    kfold = StratifiedKFold(n_splits=n_splits)\n",
    "    \n",
    "    # y_pred is empty array same size as y_true\n",
    "    y_pred = np.empty_like(y_true)\n",
    "    \n",
    "    for train_idx, test_idx in kfold.split(x, y_true):\n",
    "        # training data\n",
    "        x_train = x[train_idx, :]\n",
    "        y_true_train = y_true[train_idx]\n",
    "        \n",
    "        # testing data\n",
    "        x_test = x[test_idx, :]\n",
    "        y_true_test = y_true[test_idx]\n",
    "    \n",
    "        # train on training data\n",
    "        knn_classifier.fit(x_train, y_true_train)\n",
    "        \n",
    "        \n",
    "        y_pred[test_idx] = knn_classifier.predict(x_test)\n",
    "    \n",
    "    \n",
    "    # generate confusion matrix\n",
    "    conf_matrix = confusion_matrix(y_true=y_true, y_pred=y_pred)\n",
    "    \n",
    "    # save confusion matrix to conf_matrix_dict\n",
    "    conf_matrix_tsla_dict[k] = conf_matrix"
   ]
  },
  {
   "cell_type": "code",
   "execution_count": 89,
   "metadata": {
    "id": "kPgtCuFSoy-i"
   },
   "outputs": [],
   "source": [
    "# dict to store accuracy based on each confusion matrix\n",
    "accuracy_tsla_dict = {}\n",
    "\n",
    "# compute accuracy for all confusion matrices in conf_matrix_dict\n",
    "for k, conf_matrix in conf_matrix_tsla_dict.items():\n",
    "    # keys of this dictionary are the same as conf_matrix_dict for clarity\n",
    "    accuracy_tsla_dict[k] = accuracy(conf_matrix)"
   ]
  },
  {
   "cell_type": "code",
   "execution_count": 90,
   "metadata": {
    "colab": {
     "base_uri": "https://localhost:8080/"
    },
    "id": "t6WeHjpvo3F0",
    "outputId": "f7bdf915-cadf-4b4f-de6a-9b27bf1e2edf"
   },
   "outputs": [
    {
     "name": "stdout",
     "output_type": "stream",
     "text": [
      "{1: 0.40384615384615385,\n",
      " 5: 0.5961538461538461,\n",
      " 11: 0.5,\n",
      " 15: 0.5576923076923077,\n",
      " 27: 0.5384615384615384}\n"
     ]
    }
   ],
   "source": [
    "# using pprint for better formatting\n",
    "from pprint import pprint\n",
    "# print accuracies\n",
    "pprint(accuracy_tsla_dict)"
   ]
  },
  {
   "cell_type": "markdown",
   "metadata": {},
   "source": [
    "## Display Confusion Matrices for SNDL predictions"
   ]
  },
  {
   "cell_type": "code",
   "execution_count": 91,
   "metadata": {
    "id": "664NLONHo9H5"
   },
   "outputs": [],
   "source": [
    "from sklearn.metrics import ConfusionMatrixDisplay"
   ]
  },
  {
   "cell_type": "code",
   "execution_count": 92,
   "metadata": {
    "colab": {
     "base_uri": "https://localhost:8080/",
     "height": 325
    },
    "id": "f8FTInXCpAvr",
    "outputId": "39e07c14-fbe8-4bc9-f4b0-95df6085e83d"
   },
   "outputs": [
    {
     "data": {
      "text/plain": [
       "Text(0.5, 0.98, 'K=1 NN Classifier')"
      ]
     },
     "execution_count": 92,
     "metadata": {},
     "output_type": "execute_result"
    },
    {
     "data": {
      "image/png": "[encoded data removed]",
      "text/plain": [
       "<Figure size 432x288 with 2 Axes>"
      ]
     },
     "metadata": {
      "needs_background": "light"
     },
     "output_type": "display_data"
    }
   ],
   "source": [
    "# plot 1-NN confusion matrix\n",
    "conf_mat_tsla_1 = ConfusionMatrixDisplay(conf_matrix_tsla_dict[1], display_labels=np.unique(y_true))\n",
    "conf_mat_tsla_1.plot()\n",
    "plt.suptitle('K=1 NN Classifier')"
   ]
  },
  {
   "cell_type": "code",
   "execution_count": 93,
   "metadata": {
    "colab": {
     "base_uri": "https://localhost:8080/",
     "height": 325
    },
    "id": "Xt8CJWaSpEAu",
    "outputId": "689e19fd-04ce-43ba-9e16-4f011b631180"
   },
   "outputs": [
    {
     "data": {
      "text/plain": [
       "Text(0.5, 0.98, 'K=5 NN Classifier')"
      ]
     },
     "execution_count": 93,
     "metadata": {},
     "output_type": "execute_result"
    },
    {
     "data": {
      "image/png": "[encoded data removed]",
      "text/plain": [
       "<Figure size 432x288 with 2 Axes>"
      ]
     },
     "metadata": {
      "needs_background": "light"
     },
     "output_type": "display_data"
    }
   ],
   "source": [
    "# plot 5-NN confusion matrix\n",
    "conf_mat_tsla_5 = ConfusionMatrixDisplay(conf_matrix_tsla_dict[5], display_labels=np.unique(y_true))\n",
    "conf_mat_tsla_5.plot()\n",
    "plt.suptitle('K=5 NN Classifier')"
   ]
  },
  {
   "cell_type": "code",
   "execution_count": 94,
   "metadata": {
    "colab": {
     "base_uri": "https://localhost:8080/",
     "height": 325
    },
    "id": "gvXd49iqpG-7",
    "outputId": "e14c84e7-621d-4b9d-844b-75af29fb04a8"
   },
   "outputs": [
    {
     "data": {
      "text/plain": [
       "Text(0.5, 0.98, 'K=11 NN Classifier')"
      ]
     },
     "execution_count": 94,
     "metadata": {},
     "output_type": "execute_result"
    },
    {
     "data": {
      "image/png": "[encoded data removed]",
      "text/plain": [
       "<Figure size 432x288 with 2 Axes>"
      ]
     },
     "metadata": {
      "needs_background": "light"
     },
     "output_type": "display_data"
    }
   ],
   "source": [
    "# plot 11-NN confusion matrix\n",
    "conf_mat_tsla_11 = ConfusionMatrixDisplay(conf_matrix_tsla_dict[11], display_labels=np.unique(y_true))\n",
    "conf_mat_tsla_11.plot()\n",
    "plt.suptitle('K=11 NN Classifier')"
   ]
  },
  {
   "cell_type": "code",
   "execution_count": 95,
   "metadata": {
    "colab": {
     "base_uri": "https://localhost:8080/",
     "height": 325
    },
    "id": "i3GXeS4upJua",
    "outputId": "51a89ca0-6121-4e5f-aab1-98b46e2ee5be"
   },
   "outputs": [
    {
     "data": {
      "text/plain": [
       "Text(0.5, 0.98, 'K=15 NN Classifier')"
      ]
     },
     "execution_count": 95,
     "metadata": {},
     "output_type": "execute_result"
    },
    {
     "data": {
      "image/png": "[encoded data removed]",
      "text/plain": [
       "<Figure size 432x288 with 2 Axes>"
      ]
     },
     "metadata": {
      "needs_background": "light"
     },
     "output_type": "display_data"
    }
   ],
   "source": [
    "# plot 15-NN confusion matrix\n",
    "conf_mat_tsla_15 = ConfusionMatrixDisplay(conf_matrix_tsla_dict[15], display_labels=np.unique(y_true))\n",
    "conf_mat_tsla_15.plot()\n",
    "plt.suptitle('K=15 NN Classifier')"
   ]
  },
  {
   "cell_type": "code",
   "execution_count": 96,
   "metadata": {
    "colab": {
     "base_uri": "https://localhost:8080/",
     "height": 325
    },
    "id": "tO9_MqALpMqd",
    "outputId": "7b804473-c6bc-4b42-adc9-a74d0c49f69b"
   },
   "outputs": [
    {
     "data": {
      "text/plain": [
       "Text(0.5, 0.98, 'K=27 NN Classifier')"
      ]
     },
     "execution_count": 96,
     "metadata": {},
     "output_type": "execute_result"
    },
    {
     "data": {
      "image/png": "[encoded data removed]",
      "text/plain": [
       "<Figure size 432x288 with 2 Axes>"
      ]
     },
     "metadata": {
      "needs_background": "light"
     },
     "output_type": "display_data"
    }
   ],
   "source": [
    "# plot 27-NN confusion matrix\n",
    "conf_mat_tsla_27 = ConfusionMatrixDisplay(conf_matrix_tsla_dict[27], display_labels=np.unique(y_true))\n",
    "conf_mat_tsla_27.plot()\n",
    "plt.suptitle('K=27 NN Classifier')"
   ]
  },
  {
   "cell_type": "markdown",
   "metadata": {
    "id": "responsible-desire"
   },
   "source": [
    "## Visualizations"
   ]
  },
  {
   "cell_type": "markdown",
   "metadata": {
    "id": "subject-chair"
   },
   "source": [
    "**Total number of mentions per symbol (top 25)**"
   ]
  },
  {
   "cell_type": "code",
   "execution_count": 1,
   "metadata": {
    "colab": {
     "base_uri": "https://localhost:8080/",
     "height": 562
    },
    "id": "liked-hanging",
    "outputId": "73bd09dd-0ab0-4144-a21c-2e9199396f96"
   },
   "outputs": [
    {
     "ename": "NameError",
     "evalue": "name 'df_counts' is not defined",
     "output_type": "error",
     "traceback": [
      "\u001b[1;31m---------------------------------------------------------------------------\u001b[0m",
      "\u001b[1;31mNameError\u001b[0m                                 Traceback (most recent call last)",
      "\u001b[1;32m<ipython-input-1-37842635591f>\u001b[0m in \u001b[0;36m<module>\u001b[1;34m\u001b[0m\n\u001b[0;32m      1\u001b[0m \u001b[1;32mfrom\u001b[0m \u001b[0mmatplotlib\u001b[0m \u001b[1;32mimport\u001b[0m \u001b[0mpyplot\u001b[0m\u001b[1;33m\u001b[0m\u001b[1;33m\u001b[0m\u001b[0m\n\u001b[0;32m      2\u001b[0m \u001b[1;33m\u001b[0m\u001b[0m\n\u001b[1;32m----> 3\u001b[1;33m \u001b[0mstocks\u001b[0m \u001b[1;33m=\u001b[0m \u001b[0mdf_counts\u001b[0m\u001b[1;33m[\u001b[0m\u001b[1;34m'Symbol'\u001b[0m\u001b[1;33m]\u001b[0m\u001b[1;33m[\u001b[0m\u001b[1;33m:\u001b[0m\u001b[1;36m25\u001b[0m\u001b[1;33m]\u001b[0m\u001b[1;33m\u001b[0m\u001b[1;33m\u001b[0m\u001b[0m\n\u001b[0m\u001b[0;32m      4\u001b[0m \u001b[0mmentions\u001b[0m \u001b[1;33m=\u001b[0m \u001b[0mdf_counts\u001b[0m\u001b[1;33m[\u001b[0m\u001b[1;34m'count'\u001b[0m\u001b[1;33m]\u001b[0m\u001b[1;33m[\u001b[0m\u001b[1;33m:\u001b[0m\u001b[1;36m25\u001b[0m\u001b[1;33m]\u001b[0m\u001b[1;33m\u001b[0m\u001b[1;33m\u001b[0m\u001b[0m\n\u001b[0;32m      5\u001b[0m \u001b[1;33m\u001b[0m\u001b[0m\n",
      "\u001b[1;31mNameError\u001b[0m: name 'df_counts' is not defined"
     ]
    }
   ],
   "source": [
    "from matplotlib import pyplot\n",
    "\n",
    "stocks = df_counts['Symbol'][:25]\n",
    "mentions = df_counts['count'][:25]\n",
    "\n",
    "fig, ax = pyplot.subplots(figsize=(15, 7))\n",
    "\n",
    "sns.barplot(ax=ax, x=stocks, y=mentions)"
   ]
  },
  {
   "cell_type": "markdown",
   "metadata": {
    "id": "included-genetics"
   },
   "source": [
    "**How many times per day was each of the top 5 stocks mentioned?**"
   ]
  },
  {
   "cell_type": "code",
   "execution_count": 34,
   "metadata": {
    "id": "civic-repair"
   },
   "outputs": [],
   "source": [
    "# get the price history of each of the top 5 stocks\n",
    "df_amd_history = ticker_history('amd')\n",
    "df_apha_history = ticker_history('apha')\n",
    "df_sndl_history = ticker_history('sndl')\n",
    "df_tlry_history = ticker_history('tlry')\n",
    "df_tsla_history = ticker_history('tsla')"
   ]
  },
  {
   "cell_type": "code",
   "execution_count": 35,
   "metadata": {
    "colab": {
     "base_uri": "https://localhost:8080/",
     "height": 498
    },
    "id": "consecutive-arizona",
    "outputId": "875b75ff-959a-467a-f356-3a7fd3393e8b",
    "scrolled": false
   },
   "outputs": [
    {
     "data": {
      "image/png": "[encoded data removed]",
      "text/plain": [
       "<Figure size 1080x504 with 1 Axes>"
      ]
     },
     "metadata": {
      "tags": []
     },
     "output_type": "display_data"
    }
   ],
   "source": [
    "sns.set()\n",
    "\n",
    "# plot date on the x axis and counts on the y axis\n",
    "date = np.array(pd.to_datetime(df_amd_history['date']).apply(lambda x: x.date()))\n",
    "# AMD mentions\n",
    "amd = np.array(df_amd_history['close'])\n",
    "# APHA mentions\n",
    "apha = np.array(df_apha_history['close'])\n",
    "# SNDL mentions\n",
    "sndl = np.array(df_sndl_history['close'])\n",
    "# TLRY mentions\n",
    "tlry = np.array(df_tlry_history['close'])\n",
    "# TSLA mentions\n",
    "tsla = np.array(df_tsla_history['close'])\n",
    "\n",
    "# get figure\n",
    "fig = plt.figure()\n",
    "\n",
    "# alpha value to use\n",
    "alpha = 1\n",
    "\n",
    "# plot each symbol's mentions vs the date\n",
    "plt.plot(date, amd, label='AMD')\n",
    "plt.plot(date, apha, label='APHA')\n",
    "plt.plot(date, sndl, label='SNDL')\n",
    "plt.plot(date, tlry, label='TLRY')\n",
    "plt.plot(date, tsla, label='TSLA')\n",
    "\n",
    "# labels\n",
    "plt.xlabel('Date')\n",
    "plt.ylabel('Closing price')\n",
    "\n",
    "# log scale for y\n",
    "plt.gca().set_yscale('log')\n",
    "\n",
    "# legend\n",
    "plt.legend()\n",
    "\n",
    "# plot title\n",
    "plt.suptitle('Daily Closing prices of the 5 most mentioned stocks')\n",
    "# plot size\n",
    "plt.gcf().set_size_inches(15, 7)"
   ]
  },
  {
   "cell_type": "markdown",
   "metadata": {
    "id": "according-functionality"
   },
   "source": [
    "## Analysis\n",
    "**Project Goal:** The goal of this project is to predict stock price movements based on discussion in /r/WallStreetBets.\n",
    "- This is observeable: There is both lots of information that can be collected about stock prices, and lots of content posted on /r/WallStreetBets every day. However, as we can see from the bar chart showing the number of mentions of the top 25 symbols, there is significantly less discussion about less popular stocks, so we may need to think carefully about which stocks' movements we try to predict. We will also have to determine the window of time in which this prediction is the most accurate.\n",
    "- This is sound and simple: it seems intuitive that there would be a relationship between the amount of discussion around a stock and changes in it's price, especially large increases.\n",
    "\n",
    "Our expectiation is that increased discussion of a stock (which means increased mentions of it) will generally be correlated with changes in it's price. \n",
    "\n",
    "Scraping posts and comments from /r/WallStreetBets will allow us to know which stocks are consistently among the most discussed, which will allow us to know which stocks to focus on predicting movements for. In our case, `df_counts` is the sorted DataFrame containing the number of times each stock symbol was mentioned in /r/WallStreetBets, allowing us to find the 10 most discussed stocks:"
   ]
  },
  {
   "cell_type": "code",
   "execution_count": 30,
   "metadata": {
    "colab": {
     "base_uri": "https://localhost:8080/",
     "height": 390
    },
    "id": "concerned-arkansas",
    "outputId": "2c1148cc-1e29-40e5-e043-3e6de94a12da"
   },
   "outputs": [
    {
     "data": {
      "text/html": [
       "<div>\n",
       "<style scoped>\n",
       "    .dataframe tbody tr th:only-of-type {\n",
       "        vertical-align: middle;\n",
       "    }\n",
       "\n",
       "    .dataframe tbody tr th {\n",
       "        vertical-align: top;\n",
       "    }\n",
       "\n",
       "    .dataframe thead th {\n",
       "        text-align: right;\n",
       "    }\n",
       "</style>\n",
       "<table border=\"1\" class=\"dataframe\">\n",
       "  <thead>\n",
       "    <tr style=\"text-align: right;\">\n",
       "      <th></th>\n",
       "      <th></th>\n",
       "      <th>count</th>\n",
       "    </tr>\n",
       "    <tr>\n",
       "      <th>symbol</th>\n",
       "      <th>date</th>\n",
       "      <th></th>\n",
       "    </tr>\n",
       "  </thead>\n",
       "  <tbody>\n",
       "    <tr>\n",
       "      <th rowspan=\"10\" valign=\"top\">AACG</th>\n",
       "      <th>2021-01-19</th>\n",
       "      <td>0</td>\n",
       "    </tr>\n",
       "    <tr>\n",
       "      <th>2021-01-26</th>\n",
       "      <td>0</td>\n",
       "    </tr>\n",
       "    <tr>\n",
       "      <th>2021-01-07</th>\n",
       "      <td>0</td>\n",
       "    </tr>\n",
       "    <tr>\n",
       "      <th>2021-01-13</th>\n",
       "      <td>0</td>\n",
       "    </tr>\n",
       "    <tr>\n",
       "      <th>2021-01-15</th>\n",
       "      <td>0</td>\n",
       "    </tr>\n",
       "    <tr>\n",
       "      <th>2021-01-16</th>\n",
       "      <td>0</td>\n",
       "    </tr>\n",
       "    <tr>\n",
       "      <th>2021-03-28</th>\n",
       "      <td>0</td>\n",
       "    </tr>\n",
       "    <tr>\n",
       "      <th>2021-03-03</th>\n",
       "      <td>0</td>\n",
       "    </tr>\n",
       "    <tr>\n",
       "      <th>2021-02-25</th>\n",
       "      <td>0</td>\n",
       "    </tr>\n",
       "    <tr>\n",
       "      <th>2021-01-23</th>\n",
       "      <td>0</td>\n",
       "    </tr>\n",
       "  </tbody>\n",
       "</table>\n",
       "</div>"
      ],
      "text/plain": [
       "                   count\n",
       "symbol date             \n",
       "AACG   2021-01-19      0\n",
       "       2021-01-26      0\n",
       "       2021-01-07      0\n",
       "       2021-01-13      0\n",
       "       2021-01-15      0\n",
       "       2021-01-16      0\n",
       "       2021-03-28      0\n",
       "       2021-03-03      0\n",
       "       2021-02-25      0\n",
       "       2021-01-23      0"
      ]
     },
     "execution_count": 30,
     "metadata": {
      "tags": []
     },
     "output_type": "execute_result"
    }
   ],
   "source": [
    "df_counts[:10]"
   ]
  },
  {
   "cell_type": "markdown",
   "metadata": {
    "id": "personalized-orientation"
   },
   "source": [
    "Having daily open and close data for a variety of stocks will allow us to know if and how much a stock's price changes day-to-day. An example for a few days of TSLA data is below:"
   ]
  },
  {
   "cell_type": "code",
   "execution_count": 31,
   "metadata": {
    "colab": {
     "base_uri": "https://localhost:8080/",
     "height": 181
    },
    "id": "chief-alpha",
    "outputId": "7b8336dc-22f8-48c9-f496-5a386429cfcf"
   },
   "outputs": [
    {
     "ename": "NameError",
     "evalue": "ignored",
     "output_type": "error",
     "traceback": [
      "\u001b[0;31m---------------------------------------------------------------------------\u001b[0m",
      "\u001b[0;31mNameError\u001b[0m                                 Traceback (most recent call last)",
      "\u001b[0;32m<ipython-input-31-9ab0fb5317cd>\u001b[0m in \u001b[0;36m<module>\u001b[0;34m()\u001b[0m\n\u001b[0;32m----> 1\u001b[0;31m \u001b[0mdf_tsla_history\u001b[0m\u001b[0;34m[\u001b[0m\u001b[0;34m'close price % change'\u001b[0m\u001b[0;34m]\u001b[0m \u001b[0;34m=\u001b[0m \u001b[0mdf_tsla_history\u001b[0m\u001b[0;34m[\u001b[0m\u001b[0;34m'close'\u001b[0m\u001b[0;34m]\u001b[0m\u001b[0;34m.\u001b[0m\u001b[0mpct_change\u001b[0m\u001b[0;34m(\u001b[0m\u001b[0;34m)\u001b[0m\u001b[0;34m\u001b[0m\u001b[0;34m\u001b[0m\u001b[0m\n\u001b[0m\u001b[1;32m      2\u001b[0m \u001b[0mdf_tsla_history\u001b[0m\u001b[0;34m.\u001b[0m\u001b[0mhead\u001b[0m\u001b[0;34m(\u001b[0m\u001b[0;34m)\u001b[0m\u001b[0;34m\u001b[0m\u001b[0;34m\u001b[0m\u001b[0m\n",
      "\u001b[0;31mNameError\u001b[0m: name 'df_tsla_history' is not defined"
     ]
    }
   ],
   "source": [
    "df_tsla_history['close price % change'] = df_tsla_history['close'].pct_change()\n",
    "df_tsla_history.head()"
   ]
  },
  {
   "cell_type": "markdown",
   "metadata": {
    "id": "ordinary-yahoo"
   },
   "source": [
    "We can use a combination of these approaches to find the number of mentions of each stock that we are looking for for every day that we collect data for and find the day-to-day variation in number of mentions. This, combined with other features such as the number of upvotes that comments and posts recieve, number of comments on a post, will allow us to classify whether or not there will be an increase in price within a pre-defined window of time."
   ]
  }
 ],
 "metadata": {
  "colab": {
   "name": "Copy of Data and Analysis Plan / final thingy.ipynb",
   "provenance": []
  },
  "kernelspec": {
   "display_name": "Python 3",
   "language": "python",
   "name": "python3"
  },
  "language_info": {
   "codemirror_mode": {
    "name": "ipython",
    "version": 3
   },
   "file_extension": ".py",
   "mimetype": "text/x-python",
   "name": "python",
   "nbconvert_exporter": "python",
   "pygments_lexer": "ipython3",
   "version": "3.8.5"
  }
 },
 "nbformat": 4,
 "nbformat_minor": 5
}
